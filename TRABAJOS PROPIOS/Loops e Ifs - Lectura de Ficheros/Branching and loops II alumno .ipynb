{
 "cells": [
  {
   "cell_type": "markdown",
   "metadata": {},
   "source": [
    "# Session 8 Workbook - Branching and loops (II)"
   ]
  },
  {
   "cell_type": "markdown",
   "metadata": {},
   "source": [
    "In this Jupyter notebook you will find a series of exercise to solve. Please write the solution code in the cells specified for that purpose. In some exercises you may find some of the information needed in code. Please remember to run these cells (Shift+Enter) when you proceed to solve the exercise."
   ]
  },
  {
   "cell_type": "markdown",
   "metadata": {},
   "source": [
    "1. **Game: Guess the Number (Improved)**\n",
    "\n",
    "Take the *Guess the Number* game from the last session workbook. Modify the code to introduce a limited number of attempts by the user. Tell the user the number of remaining attempts. Break the loop if the user does not guess the number in 5 attempts and display ```Maximum number of attempts exceeded!```."
   ]
  },
  {
   "cell_type": "code",
   "execution_count": 1,
   "metadata": {},
   "outputs": [],
   "source": [
    "import random"
   ]
  },
  {
   "cell_type": "code",
   "execution_count": 2,
   "metadata": {},
   "outputs": [
    {
     "name": "stdout",
     "output_type": "stream",
     "text": [
      "Bienvenido a mi juego interactivo\n",
      "Tienes 5 intentos para adivinar el número que estoy pensando entre 1 y 50.\n",
      "17\n",
      "Introduce un número: 4\n",
      "Error! Tu número esta por debajo. Te quedan 4 intentos\n",
      "Introduce un número: 17\n",
      "Enhorabuena. Has adivinado el número en menos de 5 intentos\n"
     ]
    }
   ],
   "source": [
    "num = random.randint(1, 50)\n",
    "\n",
    "\n",
    "print(\"\"\"Bienvenido a mi juego interactivo\n",
    "Tienes 5 intentos para adivinar el número que estoy pensando entre 1 y 50.\"\"\")\n",
    "print(num)\n",
    "count = 0\n",
    "while count < 5:\n",
    "    sup = int(input(\"Introduce un número: \"))\n",
    "    if sup < num:\n",
    "        count += 1\n",
    "        print(\"Error! Tu número esta por debajo. Te quedan\", 5-count, \"intentos\")\n",
    "    elif sup > num:\n",
    "        count += 1\n",
    "        print(\"Error! Tu número esta por encima. Te quedan\", 5-count, \"intentos\")\n",
    "    elif sup != num:\n",
    "        count += 1\n",
    "    elif sup == num:\n",
    "        print(\"Enhorabuena. Has adivinado el número en menos de 5 intentos\")\n",
    "        break\n",
    "   \n",
    "  \n",
    "\n",
    "   "
   ]
  },
  {
   "cell_type": "markdown",
   "metadata": {},
   "source": [
    "2. **The Weird Counting Program**\n",
    "\n",
    "Use a ```while``` loop to print all integer numbers between 1 and 50 (included). For those integers that are multiples of **both** 3 and 5 print ```FizzBuzz``` instead of the number. For those multiples of 10 do not print anything using the ```continue``` command (this condition superseeds the previous one)."
   ]
  },
  {
   "cell_type": "code",
   "execution_count": 4,
   "metadata": {},
   "outputs": [
    {
     "name": "stdout",
     "output_type": "stream",
     "text": [
      "[1, 2, 'FizzBuzz', 4, 'FizzBuzz', 'FizzBuzz', 7, 8, 'FizzBuzz', 10, 11, 'FizzBuzz', 13, 14, 'FizzBuzz', 16, 17, 'FizzBuzz', 19, 20, 'FizzBuzz', 22, 23, 'FizzBuzz', 'FizzBuzz', 26, 'FizzBuzz', 28, 29, 30, 31, 32, 'FizzBuzz', 34, 'FizzBuzz', 'FizzBuzz', 37, 38, 'FizzBuzz', 40, 41, 'FizzBuzz', 43, 44, 'FizzBuzz', 46, 47, 'FizzBuzz', 49, 50]\n"
     ]
    }
   ],
   "source": [
    "lista = []\n",
    "c = 1\n",
    "while c < 51:\n",
    "    lista.append(c)\n",
    "    if c % 10 == 0:\n",
    "        c += 1\n",
    "        continue\n",
    "    if c % 3 == 0 or c % 5 == 0:\n",
    "        lista[c - 1] = \"FizzBuzz\"\n",
    "    c += 1\n",
    "\n",
    "print(lista)\n"
   ]
  },
  {
   "cell_type": "markdown",
   "metadata": {},
   "source": [
    "3. **Pseudocode for Rock-Paper-Scissors** \n",
    "\n",
    "Picture a classic game of *Rock-Paper-Scissors* to play against the computer. Plan your program by writing the pseudocode of it. Notice that the program must first ask the user to choose among the three options (rock, paper or scissors) and should continue asking until the user gives an answer. Code the program such that the user can input the info in several formats. For **rock** she can say either one of the following: ```rock```, ```Rock```, ```R```. For **paper**: ```paper```, ```Paper```, ```P```. Lastly, for **scissors**: ```scissors```, ```Scissors```, ```S```.\n",
    "\n",
    "Then, randomly generate the choice of the computer (*Hint*: You may use the ```random``` module and the ```randint``` function to generate integers that you can later convert into rock, paper or scissors).\n",
    "\n",
    "Finally, display the result of the game in the form: ```I picked [rock/paper/scissors], so you [win/lose].``` (*Hint*: You can group conditions using parenthesis when combining two or more). Repeat the game from the beginning if you obtain a tie.\n",
    "\n",
    "(**Note**: in the following cell you must write pseudocode, not code! Don't run it, since pseudocode is not runnable code, but rather a way for you to design the program before coding it.)"
   ]
  },
  {
   "cell_type": "markdown",
   "metadata": {},
   "source": []
  },
  {
   "cell_type": "markdown",
   "metadata": {
    "collapsed": true
   },
   "source": []
  },
  {
   "cell_type": "markdown",
   "metadata": {},
   "source": [
    "4. **The real Rock-Paper-Scissors!** \n",
    "\n",
    "Write the code for previous program."
   ]
  },
  {
   "cell_type": "code",
   "execution_count": 2,
   "metadata": {},
   "outputs": [],
   "source": [
    "import random\n"
   ]
  },
  {
   "cell_type": "code",
   "execution_count": 3,
   "metadata": {},
   "outputs": [
    {
     "name": "stdout",
     "output_type": "stream",
     "text": [
      "Bienvenido a mi programa\n",
      "Vamos a jugar a Piedra, Papel o Tijeras.\n",
      " Elige una opcion:\n",
      "    1) Piedra\n",
      "    2) Papel\n",
      "    3) Tijeras\n",
      "    4) No te apetece jugar ahora\n",
      "1\n",
      "Has elegido piedra\n",
      "Has elegido piedra. El otro papel. Tu pierdes.\n"
     ]
    }
   ],
   "source": [
    "# No me sale el que me vuelva a empezar el juego si empatan.\n",
    "\n",
    "print(\"\"\"Bienvenido a mi programa\n",
    "Vamos a jugar a Piedra, Papel o Tijeras.\"\"\")\n",
    "while (True):\n",
    "    print(\"\"\" Elige una opcion:\n",
    "    1) Piedra\n",
    "    2) Papel\n",
    "    3) Tijeras\n",
    "    4) No te apetece jugar ahora\"\"\")\n",
    "    option = input()\n",
    "    if option == '1':\n",
    "        print(\"Has elegido piedra\")\n",
    "        break\n",
    "    elif option == '2':\n",
    "        print(\"Has elegido papel\")\n",
    "        break\n",
    "    elif option == '3':\n",
    "        print(\"Has elegido tijeras\")\n",
    "        break\n",
    "    elif option == '4':\n",
    "        print(\"No pasa nada. En otro momento.\")\n",
    "        break\n",
    "    else:\n",
    "        continue\n",
    "\n",
    "num = random.randrange(3)\n",
    "if num == 0:\n",
    "    num = \"piedra\"\n",
    "elif num == 1:\n",
    "    num = \"papel\"\n",
    "elif num == 2:\n",
    "    num = 'tijeras'\n",
    "\n",
    "while (True):\n",
    "    if option == \"1\" and num == \"papel\":\n",
    "        print(\"Has elegido piedra. El otro papel. Tu pierdes.\")\n",
    "        break\n",
    "    elif option == \"1\" and num == \"tijeras\":\n",
    "        print(\"Has elegido piedra. El otro tijeras. Tu ganas.\")\n",
    "        break\n",
    "    elif option == \"2\" and num == \"piedra\":\n",
    "        print(\"Has elegido papel. El otro piedra. Tu ganas.\")\n",
    "        break\n",
    "    elif option == \"2\" and num == \"tijeras\":\n",
    "        print(\"Has elegido papel. El otro tijeras. Tu pierdes.\")\n",
    "        break\n",
    "    elif option == \"3\" and num == \"piedra\":\n",
    "        print(\"Has elegido tijeras. El otro piedra. Tu pierdes.\")\n",
    "        break\n",
    "    elif option == \"3\" and num == \"papel\":\n",
    "        print(\"Has elegido tijeras. El otro papel. Tu ganas.\")\n",
    "        break\n",
    "    else:\n",
    "        print(\"Habéis empatado. Repetid\")\n",
    "        break\n"
   ]
  }
 ],
 "metadata": {
  "kernelspec": {
   "display_name": "Python 3",
   "language": "python",
   "name": "python3"
  },
  "language_info": {
   "codemirror_mode": {
    "name": "ipython",
    "version": 3
   },
   "file_extension": ".py",
   "mimetype": "text/x-python",
   "name": "python",
   "nbconvert_exporter": "python",
   "pygments_lexer": "ipython3",
   "version": "3.7.3"
  },
  "name": "Session 8 - Branching and loops II",
  "notebookId": 2116928048375440
 },
 "nbformat": 4,
 "nbformat_minor": 1
}
