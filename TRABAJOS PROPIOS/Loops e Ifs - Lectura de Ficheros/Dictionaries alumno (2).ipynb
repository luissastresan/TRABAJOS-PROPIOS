{
 "cells": [
  {
   "cell_type": "markdown",
   "metadata": {},
   "source": [
    "# Dictionaries"
   ]
  },
  {
   "cell_type": "markdown",
   "metadata": {},
   "source": [
    "In this Jupyter notebook you will find a series of exercises to solve. Please write the solution code in the cells specified for that purpose. In some exercises you may find some of the information needed in the code. Please remember to run these cells (Shift+Enter) when you proceed to solve the exercise."
   ]
  },
  {
   "cell_type": "markdown",
   "metadata": {
    "collapsed": true
   },
   "source": [
    "1. **Dict of lengths**\n",
    "\n",
    "Given the list\n",
    "\n",
    "```python\n",
    "sentence = ['God', \"doesn't\", 'play', 'dice', 'with', 'the', 'universe']\n",
    "```\n",
    "\n",
    "build a dictionary in which the keys are the words and the values are the length of each word."
   ]
  },
  {
   "cell_type": "code",
   "execution_count": 1,
   "metadata": {},
   "outputs": [
    {
     "name": "stdout",
     "output_type": "stream",
     "text": [
      "{0: 'God', 1: \"doesn't\", 2: 'play', 3: 'dice', 4: 'with', 5: 'the', 6: 'universe'}\n"
     ]
    }
   ],
   "source": [
    "\n",
    "sentence = ['God', \"doesn't\", 'play', 'dice', 'with', 'the', 'universe']\n",
    "b = dict(enumerate(sentence))\n",
    "print(b)"
   ]
  },
  {
   "cell_type": "code",
   "execution_count": 16,
   "metadata": {},
   "outputs": [
    {
     "name": "stdout",
     "output_type": "stream",
     "text": [
      "[{'God': 3}, {\"doesn't\": 7}, {'play': 4}, {'dice': 4}, {'with': 4}, {'the': 3}, {'universe': 8}]\n"
     ]
    }
   ],
   "source": [
    "sentence = ['God', \"doesn't\", 'play', 'dice', 'with', 'the', 'universe']\n",
    "lista = []\n",
    "\n",
    "for i in sentence:\n",
    "    a = len(i)\n",
    "    dict = {i:a}\n",
    "    lista.append(dict)\n",
    "\n",
    "print(lista)   "
   ]
  },
  {
   "cell_type": "markdown",
   "metadata": {
    "collapsed": true
   },
   "source": [
    "2. **Sorted!**\n",
    "\n",
    "\n",
    "Given the list\n",
    "\n",
    "```python\n",
    "sentence = ['God', \"doesn't\", 'play', 'dice', 'with', 'the', 'universe']\n",
    "```\n",
    "\n",
    "sort it alphabetically according to the __last__ letter in the sentence."
   ]
  },
  {
   "cell_type": "code",
   "execution_count": 7,
   "metadata": {},
   "outputs": [
    {
     "name": "stdout",
     "output_type": "stream",
     "text": [
      "['God', 'dice', 'the', 'universe', 'with', \"doesn't\", 'play']\n"
     ]
    }
   ],
   "source": [
    "sentence = ['God', \"doesn't\", 'play', 'dice', 'with', 'the', 'universe']\n",
    "\n",
    "def invertir(x):\n",
    "    return x[::-1]\n",
    "\n",
    "sentence.sort(key = invertir)\n",
    "\n",
    "print(sentence)\n"
   ]
  },
  {
   "cell_type": "markdown",
   "metadata": {
    "collapsed": true
   },
   "source": [
    "3. **The Caesar**\n",
    "\n",
    "A cypher is a method for encrypting some message so that it becomes non-readable for people that do not have the mechanism to decrypt it. An ancient well-known (and already broken) cypher is the Caesar cypher.\n",
    "\n",
    "In Caesar cypher we will replace each letter by the letter three positions after it. For example:\n",
    "\n",
    "```plain_text     = 'hello world'```\n",
    "\n",
    "```encrypted_text = 'khoor zruog'```\n",
    "\n",
    "In the case of letters `x`, `y` and `z`, they are replaced respectively by `a`, `b` and `c`.\n",
    "\n",
    "Write a program that asks the user for some text and then prints out the encrypted text using this Caesar cypher. __Make use of a dictionary to know which letter must substitute each one__.\n",
    "\n",
    "Let's assume that the message is in lower case. Also, do not replace non-letter symbols (i.e., let commas, dots, spaces, etc. unaltered)"
   ]
  },
  {
   "cell_type": "code",
   "execution_count": 23,
   "metadata": {},
   "outputs": [
    {
     "name": "stdout",
     "output_type": "stream",
     "text": [
      "k\n",
      "l\n",
      "ñ\n",
      "d\n"
     ]
    },
    {
     "data": {
      "text/plain": [
       "'None'"
      ]
     },
     "execution_count": 23,
     "metadata": {},
     "output_type": "execute_result"
    }
   ],
   "source": [
    "# Este no me sale.\n",
    "\n",
    "def encrypted(word):\n",
    "    abecedario = ['a','b', 'c', 'd', 'e', 'f', 'g', 'h', 'i', 'j', 'k', 'l', 'm', 'n', 'ñ', 'o', 'p', 'q', 'r', 's',\n",
    "              't', 'u', 'v', 'w', 'x', 'y', 'z']\n",
    "    cripto_dict = {\n",
    "        'a':abecedario[3],\n",
    "        'b':abecedario[4],\n",
    "        'c':abecedario[5],\n",
    "        'd':abecedario[6],\n",
    "        'e':abecedario[7],\n",
    "        'f':abecedario[8],\n",
    "        'g':abecedario[9],\n",
    "        'h':abecedario[10],\n",
    "        'i':abecedario[11],\n",
    "        'j':abecedario[12],\n",
    "        'k':abecedario[13],\n",
    "        'l':abecedario[14],\n",
    "        'm':abecedario[15],\n",
    "        'n':abecedario[16],\n",
    "        'ñ':abecedario[17],\n",
    "        'o':abecedario[18],\n",
    "        'p':abecedario[19],\n",
    "        'q':abecedario[20],\n",
    "        'r':abecedario[21],\n",
    "        's':abecedario[22],\n",
    "        't':abecedario[23],\n",
    "        'u':abecedario[24],\n",
    "        'v':abecedario[25],\n",
    "        'w':abecedario[26],\n",
    "        'x':abecedario[0],\n",
    "        'y':abecedario[1],\n",
    "        'z':abecedario[2]\n",
    "    }\n",
    "    for i in word:\n",
    "        x = cripto_dict[i]\n",
    "        print(x)\n",
    "\n",
    "encrypted('hila')\n"
   ]
  },
  {
   "cell_type": "code",
   "execution_count": null,
   "metadata": {},
   "outputs": [],
   "source": []
  },
  {
   "cell_type": "code",
   "execution_count": 27,
   "metadata": {},
   "outputs": [
    {
     "name": "stdout",
     "output_type": "stream",
     "text": [
      "h\n",
      "o\n",
      "l\n",
      "a\n"
     ]
    }
   ],
   "source": [
    "x = 'hola'\n",
    "for i in x:\n",
    "    print(i)"
   ]
  },
  {
   "cell_type": "code",
   "execution_count": 13,
   "metadata": {},
   "outputs": [
    {
     "data": {
      "text/html": [
       "<style scoped>\n",
       "  .ansiout {\n",
       "    display: block;\n",
       "    unicode-bidi: embed;\n",
       "    white-space: pre-wrap;\n",
       "    word-wrap: break-word;\n",
       "    word-break: break-all;\n",
       "    font-family: \"Source Code Pro\", \"Menlo\", monospace;;\n",
       "    font-size: 13px;\n",
       "    color: #555;\n",
       "    margin-left: 4px;\n",
       "    line-height: 19px;\n",
       "  }\n",
       "</style>\n",
       "<div class=\"ansiout\">ñwofq\n",
       "</div>"
      ]
     },
     "metadata": {},
     "output_type": "display_data"
    }
   ],
   "source": [
    "plain_text     = 'mundo'\n"
   ]
  },
  {
   "cell_type": "markdown",
   "metadata": {},
   "source": [
    "4. **Scrabble!**\n",
    "\n",
    "\n",
    "We are going to write a dictionary with the [(English) values of letters](https://en.wikipedia.org/wiki/Scrabble_letter_distributions#English) in the Scrabble board game. That is, keys will be lower case letters from `a` to `z`, and the values will be the points associated to each letter. For example, letter `e` scores 1 point, while letter `j` scores 8 points."
   ]
  },
  {
   "cell_type": "code",
   "execution_count": 24,
   "metadata": {},
   "outputs": [
    {
     "data": {
      "text/plain": [
       "9"
      ]
     },
     "execution_count": 24,
     "metadata": {},
     "output_type": "execute_result"
    }
   ],
   "source": [
    "Letters = {\n",
    "'a': { 'quantity' : 9, 'value': 1},\n",
    "'b': { 'quantity' : 2, 'value': 3},\n",
    "'c': { 'quantity' : 2, 'value': 3},\n",
    "'d': { 'quantity' : 4, 'value': 2},\n",
    "'e': { 'quantity' : 12, 'value': 1},\n",
    "'f': { 'quantity' : 2, 'value': 4},\n",
    "'g': { 'quantity' : 3, 'value': 2},\n",
    "'h': { 'quantity' : 2, 'value': 4},\n",
    "'i': { 'quantity' : 9, 'value': 1},\n",
    "'j': { 'quantity' : 1, 'value': 8},\n",
    "'k': { 'quantity' : 1, 'value': 5},\n",
    "'l': { 'quantity' : 4, 'value': 1},\n",
    "'m': { 'quantity' : 2, 'value': 3},\n",
    "'n': { 'quantity' : 6, 'value': 1},\n",
    "'o': { 'quantity' : 8, 'value': 1},\n",
    "'p': { 'quantity' : 2, 'value': 3},\n",
    "'q': { 'quantity' : 1, 'value': 10},\n",
    "'r': { 'quantity' : 6, 'value': 1},\n",
    "'s': { 'quantity' : 4, 'value': 1},\n",
    "'t': { 'quantity' : 6, 'value': 1},\n",
    "'u': { 'quantity' : 4, 'value': 1},\n",
    "'v': { 'quantity' : 2, 'value': 4},\n",
    "'w': { 'quantity' : 2, 'value': 4},\n",
    "'x': { 'quantity' : 1, 'value': 8},\n",
    "'y': { 'quantity' : 2, 'value': 4},\n",
    "'z': { 'quantity' : 1, 'value': 10},\n",
    "'*': { 'quantity' : 2, 'value': 0}\n",
    "\n",
    "}\n",
    "\n",
    "# to get to it's \"content\", like this:\n",
    "\n",
    "\n",
    "# you can then get its 'value' or 'quantity' in a tile bag\n",
    "\n",
    "\n",
    "# if you MUST use a function, do this with above dictionary, although it's quite pointless\n",
    "\n",
    "Letters['a']['quantity']\n",
    "    \n"
   ]
  },
  {
   "cell_type": "markdown",
   "metadata": {},
   "source": [
    "5. **The Scrabble Score**\n",
    "\n",
    "\n",
    "\n",
    "Write a program that takes a word and scores it for scrabble points, using the previous dictionary. For example:\n",
    "\n",
    "```python\n",
    "test_word = 'asterisk'\n",
    "```\n",
    "Result: 12"
   ]
  },
  {
   "cell_type": "code",
   "execution_count": 28,
   "metadata": {},
   "outputs": [
    {
     "name": "stdout",
     "output_type": "stream",
     "text": [
      "Introduce una palabra: luis\n",
      "test_word =  luis\n",
      "Result: 4\n"
     ]
    }
   ],
   "source": [
    "test_word = input('Introduce una palabra: ')\n",
    "count = 0\n",
    "for i in test_word:\n",
    "    count += Letters[i]['value']\n",
    "\n",
    "print(\"test_word = \", test_word)\n",
    "print(\"Result:\", count)\n",
    "    "
   ]
  },
  {
   "cell_type": "markdown",
   "metadata": {},
   "source": [
    "6. **The Scrabble Multipliers**\n",
    "\n",
    "\n",
    "\n",
    "Write a program that takes a word and a list of letter multipliers and scores the word, considering the letter multipliers. For example:\n",
    "\n",
    "```python\n",
    "test_word = 'asterisk'\n",
    "multipliers = [1, 1, 2, 1, 1, 1, 1, 3]\n",
    "\n",
    "```\n",
    "\n",
    "Result: 23"
   ]
  },
  {
   "cell_type": "code",
   "execution_count": 39,
   "metadata": {},
   "outputs": [
    {
     "name": "stdout",
     "output_type": "stream",
     "text": [
      "Introduce una palabra: luis\n",
      "test_word =  luis\n",
      "multipliers =  [4, 4, 9, 4]\n",
      "Result: 21\n"
     ]
    }
   ],
   "source": [
    "lista = []\n",
    "count = 0\n",
    "test_word = input('Introduce una palabra: ')\n",
    "\n",
    "for i in test_word:\n",
    "    a = lista.append(Letters[i][\"quantity\"])\n",
    "    count += Letters[i][\"quantity\"] * Letters[i][\"value\"]\n",
    "\n",
    "print(\"test_word = \", test_word)\n",
    "print(\"multipliers = \", lista)              \n",
    "print(\"Result:\", count)"
   ]
  }
 ],
 "metadata": {
  "kernelspec": {
   "display_name": "Python 3",
   "language": "python",
   "name": "python3"
  },
  "language_info": {
   "codemirror_mode": {
    "name": "ipython",
    "version": 3
   },
   "file_extension": ".py",
   "mimetype": "text/x-python",
   "name": "python",
   "nbconvert_exporter": "python",
   "pygments_lexer": "ipython3",
   "version": "3.7.3"
  },
  "name": "Session 12 - Dictionaries (1)",
  "notebookId": 1649927884251225
 },
 "nbformat": 4,
 "nbformat_minor": 1
}
