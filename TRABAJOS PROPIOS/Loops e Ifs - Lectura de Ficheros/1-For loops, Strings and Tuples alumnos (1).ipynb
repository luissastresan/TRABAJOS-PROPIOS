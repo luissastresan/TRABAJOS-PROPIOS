{
 "cells": [
  {
   "cell_type": "markdown",
   "metadata": {
    "collapsed": true
   },
   "source": [
    "# Session 9 Workbook - For loops, Strings and Tuples"
   ]
  },
  {
   "cell_type": "markdown",
   "metadata": {},
   "source": [
    "In this Jupyter notebook you will find a series of exercise to solve. Please write the solution code in the cells specified for that purpose. In some exercises you may find some of the information needed in code. Please remember to run these cells (Shift+Enter) when you proceed to solve the exercise."
   ]
  },
  {
   "cell_type": "markdown",
   "metadata": {},
   "source": [
    "1. **Counting letters** \n",
    "\n",
    "Create a program that asks the user for a word and counts the number of letters in it using a ```for``` loop. Then print ```[word] has [number of letters] letters```."
   ]
  },
  {
   "cell_type": "code",
   "execution_count": 7,
   "metadata": {},
   "outputs": [
    {
     "ename": "SyntaxError",
     "evalue": "f-string: expecting '}' (<ipython-input-7-53f9159955a0>, line 6)",
     "output_type": "error",
     "traceback": [
      "\u001b[0;36m  File \u001b[0;32m\"<ipython-input-7-53f9159955a0>\"\u001b[0;36m, line \u001b[0;32m6\u001b[0m\n\u001b[0;31m    print(f\"{word, sep = \"\"} has {count} letters\")\u001b[0m\n\u001b[0m         ^\u001b[0m\n\u001b[0;31mSyntaxError\u001b[0m\u001b[0;31m:\u001b[0m f-string: expecting '}'\n"
     ]
    }
   ],
   "source": [
    "word = input(\"Introduce una palabra: \")\n",
    "count = 0\n",
    "for i in word:\n",
    "    while count < len(word):\n",
    "        count += 1\n",
    "print(f\"{word} has {count} letters\")"
   ]
  },
  {
   "cell_type": "markdown",
   "metadata": {},
   "source": [
    "2. **Oops, that was a blankspace!** \n",
    "\n",
    "What happens in the previous code if you input a sentence (two words or more separated by spaces)? Repeat the previous exercise, but this time ignore the spaces when counting the number of letters."
   ]
  },
  {
   "cell_type": "code",
   "execution_count": 17,
   "metadata": {},
   "outputs": [
    {
     "name": "stdout",
     "output_type": "stream",
     "text": [
      "Introduce una palabra: Hola me llamo luis\n",
      "Holamellamoluis has 15 letters\n"
     ]
    }
   ],
   "source": [
    "word = input(\"Introduce una palabra: \")\n",
    "word = word.replace(\" \", \"\")\n",
    "count = 0\n",
    "for i in word:\n",
    "    while count < len(word):\n",
    "        count += 1\n",
    "print(f\"{word} has {count} letters\")"
   ]
  },
  {
   "cell_type": "markdown",
   "metadata": {},
   "source": [
    "3. **Sentences on reverse**\n",
    "\n",
    "Write a program that asks the user for a word/sentence and prints it backwards. \n",
    "\n",
    "*Hint 1*: Remember that you can use ```range()``` to create a countdown by setting the step size to -1.\n",
    "\n",
    "*Hint 2*: Alternatively, remember that you can use negative indices in order to access positions in a sequence by the end."
   ]
  },
  {
   "cell_type": "code",
   "execution_count": 3,
   "metadata": {},
   "outputs": [
    {
     "name": "stdout",
     "output_type": "stream",
     "text": [
      "Introduce una palabra/frase: hola me llmao luis\n",
      "s\n",
      "i\n",
      "u\n",
      "l\n",
      " \n",
      "o\n",
      "a\n",
      "m\n",
      "l\n",
      "l\n",
      " \n",
      "e\n",
      "m\n",
      " \n",
      "a\n",
      "l\n",
      "o\n",
      "h\n"
     ]
    }
   ],
   "source": [
    "sentence = input(\"Introduce una palabra/frase: \")\n",
    "for i in range(len(sentence)-1, -1, -1):\n",
    "    print(sentence[i])\n",
    "    "
   ]
  },
  {
   "cell_type": "markdown",
   "metadata": {},
   "source": [
    "4. **The Lottery**\n",
    "\n",
    "Create a program that first generates a tuple with 6 random integer numbers between 0 and 9, both included. To simplify the problem, numbers can be repeated.\n",
    "\n",
    "Then, the program will ask the user to input 6 integer numbers between 0 and 9, and will store them in a tuple. This tuple will contain the user picked numbers for the lottery.\n",
    "\n",
    "Finally, you will need to use a ```for``` loop to check the percentage of right guesses, i.e., how many numbers match. Remember that the order of the numbers matter! For example, if the lottery numbers are ```(1,2,3,4,5,6)``` and the user picked numbers are ```(6,5,4,3,2,1)```, then there are 0 matches.\n",
    "\n",
    "At the end, print the following sentence: ```You got [number of right guesses] right guesses.```"
   ]
  },
  {
   "cell_type": "code",
   "execution_count": 1,
   "metadata": {},
   "outputs": [],
   "source": [
    "import random"
   ]
  },
  {
   "cell_type": "code",
   "execution_count": 4,
   "metadata": {},
   "outputs": [
    {
     "name": "stdout",
     "output_type": "stream",
     "text": [
      "[7, 5, 8, 6, 8, 5]\n",
      "Introduce seis numeros entre 0 y 9: 758685\n",
      "you got 100.0% right guesses.\n"
     ]
    }
   ],
   "source": [
    "numeros_loteria = ()\n",
    "for i in range(6):\n",
    "    lista_numeros = list(numeros_loteria)\n",
    "    n = random.randrange(0,9)\n",
    "    lista_numeros.append(n)\n",
    "    numeros_loteria = tuple(lista_numeros)\n",
    "    \n",
    "numeros_usuario = input(\"Introduce seis numeros entre 0 y 9: \")\n",
    "numeros_usuario = tuple([int(i) for i in numeros_usuario])\n",
    "\n",
    "count = 0\n",
    "for i in range(6):\n",
    "    if numeros_usuario[i] == numeros_loteria[i]:\n",
    "        count += 1\n",
    "\n",
    "print(f\"you got {(count/6)*100}% right guesses.\")\n",
    "      "
   ]
  }
 ],
 "metadata": {
  "kernelspec": {
   "display_name": "Python 3",
   "language": "python",
   "name": "python3"
  },
  "language_info": {
   "codemirror_mode": {
    "name": "ipython",
    "version": 3
   },
   "file_extension": ".py",
   "mimetype": "text/x-python",
   "name": "python",
   "nbconvert_exporter": "python",
   "pygments_lexer": "ipython3",
   "version": "3.7.3"
  },
  "name": "Session 9 - For loops, Strings and Tuples",
  "notebookId": 2116928048375451
 },
 "nbformat": 4,
 "nbformat_minor": 1
}
