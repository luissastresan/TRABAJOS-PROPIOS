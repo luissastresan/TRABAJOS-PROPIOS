{
 "cells": [
  {
   "cell_type": "markdown",
   "metadata": {},
   "source": [
    "# Session 7 Workbook - Branching and loops (I)"
   ]
  },
  {
   "cell_type": "markdown",
   "metadata": {},
   "source": [
    "In this Jupyter notebook you will find a series of exercise to solve. Please write the solution code in the cells specified for that purpose. In some exercises you may find some of the information needed in code. Please remember to run these cells (Shift+Enter) when you proceed to solve the exercise."
   ]
  },
  {
   "cell_type": "markdown",
   "metadata": {},
   "source": [
    "1. **Checking if a number is odd or even**\n",
    "\n",
    "Use the ```random``` module and the ```randint( )``` function to create a random integer between 1 and 1000 and assign it to variable ```num```. Then, write some code that checks whether that integer is odd or even. Finally, print the sentence: ```The number [num] is odd/even.```\n",
    "\n",
    "*Note*: For checking if a number is odd or even, remember the mod operator (```%```) from previous sessions."
   ]
  },
  {
   "cell_type": "code",
   "execution_count": 1,
   "metadata": {},
   "outputs": [],
   "source": [
    "import random"
   ]
  },
  {
   "cell_type": "code",
   "execution_count": 3,
   "metadata": {},
   "outputs": [
    {
     "name": "stdout",
     "output_type": "stream",
     "text": [
      "The number 597 is odd\n"
     ]
    }
   ],
   "source": [
    "num = random.randint(1,1000)\n",
    "if num % 2 == 0:\n",
    "    print(\"The number\", num, \"is even\")\n",
    "else:\n",
    "    print(\"The number\", num, \"is odd\")"
   ]
  },
  {
   "cell_type": "markdown",
   "metadata": {},
   "source": [
    "2. **Computing the median of three numbers**\n",
    "\n",
    "The median of a distribution is the value that leaves an equal number of values below and above it. For example, the median between numbers 3.5, 6.25 and 8.54 is 6.25. \n",
    "\n",
    "Write Python code that asks the user for three floating point numbers and then calculates the median. Then, print the sentence: ```The median is [median]```. You are required to use ```if```, ```elif```, and ```else``` statements to do it."
   ]
  },
  {
   "cell_type": "code",
   "execution_count": 12,
   "metadata": {},
   "outputs": [
    {
     "name": "stdout",
     "output_type": "stream",
     "text": [
      "Introduce un número decimal: 9.5\n",
      "Introduce un número decimal: 3.4\n",
      "Introduce un número decimal: 10.3\n",
      "The median is 9.5\n"
     ]
    }
   ],
   "source": [
    "lista_numbers = []\n",
    "for i in range(3):\n",
    "    numbers = float(input(\"Introduce un número decimal: \"))\n",
    "    lista_numbers.append(numbers)\n",
    "\n",
    "lista_numbers = sorted(lista_numbers)\n",
    "\n",
    "if lista_numbers[1] > lista_numbers[0] and lista_numbers[1] < lista_numbers[2]:\n",
    "    print(\"The median is\", lista_numbers[1])\n"
   ]
  },
  {
   "cell_type": "code",
   "execution_count": 7,
   "metadata": {},
   "outputs": [],
   "source": []
  },
  {
   "cell_type": "markdown",
   "metadata": {},
   "source": [
    "3. **Game: Guess the number**\n",
    "\n",
    "Use the ```random``` module to generate a random integer between 1 and 50. Then create a program that asks the user to enter a guess for the number. The program should respond to this guess by telling the user whether the guess was correct, or whether it was too low or too high; and ask for a new guess. This loop should continue until the user guesses the correct number. When that happens, print ```Right guess!```."
   ]
  },
  {
   "cell_type": "code",
   "execution_count": 3,
   "metadata": {},
   "outputs": [
    {
     "name": "stdout",
     "output_type": "stream",
     "text": [
      "Bienvenido a mi juego de adivinanzas!\n",
      "Adivina el número que estoy pensando, ¿Cúal crees que es?: 3\n",
      "Error! Tu número esta por debajo. Vuelve a intentarlo\n",
      "Adivina el número que estoy pensando, ¿Cúal crees que es?: 4\n",
      "Error! Tu número esta por debajo. Vuelve a intentarlo\n",
      "Adivina el número que estoy pensando, ¿Cúal crees que es?: 5\n",
      "Error! Tu número esta por debajo. Vuelve a intentarlo\n",
      "Adivina el número que estoy pensando, ¿Cúal crees que es?: 6\n",
      "Error! Tu número esta por debajo. Vuelve a intentarlo\n",
      "Adivina el número que estoy pensando, ¿Cúal crees que es?: 7\n",
      "Error! Tu número esta por debajo. Vuelve a intentarlo\n",
      "Adivina el número que estoy pensando, ¿Cúal crees que es?: 8\n",
      "Enhorabuena, lo has adivinado!!\n"
     ]
    }
   ],
   "source": [
    "number = random.randint(1,50)\n",
    "print(\"Bienvenido a mi juego de adivinanzas!\")\n",
    "while (True):\n",
    "    sup = int(input(\"Adivina el número que estoy pensando, ¿Cúal crees que es?: \"))\n",
    "    if sup < number:\n",
    "        print(\"Error! Tu número esta por debajo. Vuelve a intentarlo\")\n",
    "    elif sup > number:\n",
    "        print(\"Error! Tu número esta por encima. Vuelve a intentarlo\")\n",
    "    elif sup > 50:\n",
    "        print(\"Error. Este número no entra dentro del rango. Vuelve a intentarlo\")\n",
    "    elif sup == number:\n",
    "        print(\"Enhorabuena, lo has adivinado!!\")\n",
    "        break\n",
    "   "
   ]
  },
  {
   "cell_type": "code",
   "execution_count": null,
   "metadata": {},
   "outputs": [],
   "source": []
  }
 ],
 "metadata": {
  "kernelspec": {
   "display_name": "Python 3",
   "language": "python",
   "name": "python3"
  },
  "language_info": {
   "codemirror_mode": {
    "name": "ipython",
    "version": 3
   },
   "file_extension": ".py",
   "mimetype": "text/x-python",
   "name": "python",
   "nbconvert_exporter": "python",
   "pygments_lexer": "ipython3",
   "version": "3.7.3"
  },
  "name": "Session 7 - Branching and loops I (1)",
  "notebookId": 2116928048375481
 },
 "nbformat": 4,
 "nbformat_minor": 1
}
