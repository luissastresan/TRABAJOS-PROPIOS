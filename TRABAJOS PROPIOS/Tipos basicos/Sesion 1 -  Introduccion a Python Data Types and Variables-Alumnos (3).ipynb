{
 "cells": [
  {
   "cell_type": "markdown",
   "metadata": {},
   "source": [
    "# modulo 4: Introducción a Python para Análisis de Datos"
   ]
  },
  {
   "cell_type": "markdown",
   "metadata": {},
   "source": [
    "# Sesión 1          \n",
    "\n",
    "Tutorial de Python con Jupyter Notebook¶\n"
   ]
  },
  {
   "cell_type": "markdown",
   "metadata": {},
   "source": [
    "**Python** es un lenguaje de alto nivel, multiparadigma con tipado dinámico.\n",
    "\n",
    "Si bien se usa en varios ámbitos, recientemente se ha convertido en el lenguaje más utilizado para programación científica, junto con las librerías NumPy (matrices), Matplotlib (visualizar datos) y otras.\n",
    "\n",
    "El tutorial no asume conocimiento de Python, pero tampoco explica el lenguaje en detalle;\n",
    "\n",
    "**Uso de Cuadernos de Jupyter**\n",
    "Los cuadernos tienen dos tipos de celdas, de código y de texto. La celda que estás leyendo es una celda de texto escrita con Markdown, un lenguaje de marcado parecido al que utiliza wikipedia para sus páginas o al HTML.\n",
    "\n",
    "Las celdas de código son ejecutables, es decir, se puede peden ejecutar individualmente (con ctrl+enter o desde el menu Cell -> Run Cells)"
   ]
  },
  {
   "cell_type": "markdown",
   "metadata": {},
   "source": [
    "# Librerías básicas de Python\n",
    "Algunas librerías esenciales de Python:\n",
    "\n",
    "    Numpy: operaciones con arrays y matrices, álgebra lineal\n",
    "\n",
    "    pandas: análisis de datos\n",
    "\n",
    "    matplotlib: representación gráfica\n",
    "\n",
    "    SciPy: computación científica\n",
    "\n",
    "IPython: entorno de desarrollo interactivo\n",
    "En este curso vamos a ver con cierto detalle NumPy, pandas y matplotlib. Usaremos el Ipython Notebook,\n",
    "que permite interactuar con la consola de IPython desde un navegador web,"
   ]
  },
  {
   "cell_type": "markdown",
   "metadata": {},
   "source": [
    "# Python básico¶\n",
    "Las variables en python no necesitan ser declaradas, simplemente se definen al ser utilizadas por primera vez. Además, (si bien no es recomendable) pueden cambiar de tipo volviendo a definir.\n",
    "\n",
    "\n"
   ]
  },
  {
   "cell_type": "code",
   "execution_count": 1,
   "metadata": {},
   "outputs": [
    {
     "name": "stdout",
     "output_type": "stream",
     "text": [
      "hola\n",
      "5\n",
      "7.5\n"
     ]
    }
   ],
   "source": [
    "x=\"hola\"\n",
    "print(x)\n",
    "\n",
    "x=5\n",
    "print(x)\n",
    "\n",
    "y=x+2.5\n",
    "print(y)"
   ]
  },
  {
   "cell_type": "markdown",
   "metadata": {},
   "source": [
    "# 1 Tipos de datos básicos\n",
    "Python tiene los mismos datos básicos que otros lenguajes: enteros, flotantes, strings y booleanos. Además, las listas son un tipo predefinido en el lenguaje.\n",
    "\n",
    "  **Colecciones de datos**: listas, tuplas, diccionarios, conjuntos.\n",
    "  \n",
    "    Uso de for para recorrer secuencias: nunca se utiliza el índice (enumerate si fuera necesario).\n",
    "    \n",
    "    List comprehensions para definir una lista a partir de otra.\n",
    "    \n",
    "    Asignación con if.\n",
    "    \n",
    "Todos los elementos de Python, incluyendo los tipos básicos, son objetos. Las variables almacenan \n",
    "referencias a objetos.\n",
    "\n",
    "Los tipos básicos, **los strings y las tuplas son inmutables**, las listas, sets y diccionarios son\n",
    "mutables.\n"
   ]
  },
  {
   "cell_type": "markdown",
   "metadata": {},
   "source": [
    "# 1.1 Números\n",
    "Python tiene soporte para números enteros y de decimales.\n"
   ]
  },
  {
   "cell_type": "code",
   "execution_count": 17,
   "metadata": {},
   "outputs": [
    {
     "name": "stdout",
     "output_type": "stream",
     "text": [
      "Tipo de x:\n",
      "<class 'int'>\n",
      "Valor de x:\n",
      "3\n",
      "x+1:\n",
      "4\n",
      "x-1:\n",
      "2\n",
      " x*2:\n",
      "6\n",
      "x^2:\n",
      "9\n",
      "x modificado:\n",
      "4\n",
      "x modificado:\n",
      "8\n",
      "Varias cosas en una línea:\n",
      "1 2 8 10\n"
     ]
    }
   ],
   "source": [
    "### Enteros ###\n",
    "\n",
    "x = 3 \n",
    "\n",
    "print(\"Tipo de x:\")\n",
    "print(type(x)) # Imprime el tipo (o `clase`) de x\n",
    "\n",
    "print(\"Valor de x:\")\n",
    "print(x)       # Imprimir un valor\n",
    "\n",
    "print(\"x+1:\")\n",
    "print(x + 1)   # Suma: imprime \"4\"\n",
    "\n",
    "print(\"x-1:\")\n",
    "print(x - 1)   # Resta; imprime \"2\"\n",
    "\n",
    "print(\" x*2:\")\n",
    "print(x * 2)   # Multiplicación; imprime \"6\"\n",
    "\n",
    "print(\"x^2:\")\n",
    "print(x ** 2)  # Exponenciación; imprime \"9\"\n",
    "\n",
    "# Modificación de x\n",
    "x += 1 \n",
    "print(\"x modificado:\")\n",
    "print(x)  # Imprime \"4\"\n",
    "\n",
    "x *= 2\n",
    "print(\"x modificado:\")\n",
    "print(x)  # Imprime \"8\"\n",
    "\n",
    "print(\"Varias cosas en una línea:\")\n",
    "print(1,2,x,5*2) # imprime varias cosas a la vez"
   ]
  },
  {
   "cell_type": "code",
   "execution_count": 18,
   "metadata": {},
   "outputs": [
    {
     "name": "stdout",
     "output_type": "stream",
     "text": [
      "- Tipo de y:\n",
      "<class 'float'>\n",
      "- Varios valores en decimales (floats):\n",
      "2.5 3.5 6.25 6.25\n"
     ]
    }
   ],
   "source": [
    "### Reales ###\n",
    "\n",
    "y = 2.5 \n",
    "print(\"- Tipo de y:\")\n",
    "print(type(y)) # Imprime el tipo de y\n",
    "print(\"- Varios valores en decimales (floats):\")\n",
    "print(y, y + 1, y * 2.5, y ** 2) # Imprime varios números en punto flotante"
   ]
  },
  {
   "cell_type": "markdown",
   "metadata": {},
   "source": [
    "# 1.2 Booleanos\n",
    "Python implementa todos los operadores usuales de la lógica booleana, usando palabras en inglés (and, or, not) en lugar de símbolos (||, &&, !, etc)\n",
    "\n",
    "También tiene los típicos operadores de comparación: <,>,>=,<=,==,!="
   ]
  },
  {
   "cell_type": "code",
   "execution_count": 19,
   "metadata": {},
   "outputs": [
    {
     "name": "stdout",
     "output_type": "stream",
     "text": [
      "- Valores de v1 y v2:\n",
      "True False\n",
      "- Tipo de v1:\n",
      "<class 'bool'>\n",
      "- v1 and v2:\n",
      "False\n",
      "True\n",
      "False\n",
      "False\n",
      "True\n",
      "True\n"
     ]
    }
   ],
   "source": [
    "### Booleanos ###\n",
    "\n",
    "v1 = True #el valor verdadero se escribe True \n",
    "v2 = False #el valor verdadero se escribe False\n",
    "\n",
    "print(\"- Valores de v1 y v2:\")\n",
    "print(v1,v2)\n",
    "\n",
    "print(\"- Tipo de v1:\")\n",
    "print(type(v1)) # Imprime la clase de un valor booleano ('bool')\n",
    "\n",
    "print(\"- v1 and v2:\")\n",
    "print(v1 and v2) # y lógico; imprime False\n",
    "print(v1 or v2)  # o lógico; imprime True\n",
    "print(not v1)   # negación lógica, imprime False\n",
    "\n",
    "print(3 == 5)  # Imprime False ya que son distintos\n",
    "print(3 != 5)  # Imprime True ya que son distintos\n",
    "print(3 < 5)  # Imprime True ya que 3 es menor que 5"
   ]
  },
  {
   "cell_type": "markdown",
   "metadata": {},
   "source": [
    "# 1.3 Listas\n",
    "Python tiene soporte para listas como un tipo predefinido del lenguaje. Para crear una lista basta con poner cosas entre [] (corchetes) y separarlas con , (comas)."
   ]
  },
  {
   "cell_type": "code",
   "execution_count": 20,
   "metadata": {},
   "outputs": [
    {
     "name": "stdout",
     "output_type": "stream",
     "text": [
      "- Lista con 4 números:\n",
      "[57, 45, 7, 13]\n",
      "- Lista con 3 strings:\n",
      "['hola', 'ciao', 'buen día']\n",
      "Longitud de la lista:\n",
      "4\n"
     ]
    }
   ],
   "source": [
    "print(\"- Lista con 4 números:\")\n",
    "a=[57,45,7,13] # una lista con cuatro números\n",
    "print(a)\n",
    "\n",
    "print(\"- Lista con 3 strings:\")\n",
    "b=[\"hola\",\"ciao\",\"buen día\"] # una lista con tres strings\n",
    "print(b)\n",
    "\n",
    "# la función `len` me da la longitud de la lista\n",
    "print(\"Longitud de la lista:\")\n",
    "n=len(a)\n",
    "print(n)"
   ]
  },
  {
   "cell_type": "code",
   "execution_count": 21,
   "metadata": {},
   "outputs": [
    {
     "name": "stdout",
     "output_type": "stream",
     "text": [
      "3\n"
     ]
    }
   ],
   "source": [
    "c=[47,12,5]\n",
    "#print(c)\n",
    "#print(len(c))\n",
    "l=len(c)\n",
    "print(l)"
   ]
  },
  {
   "cell_type": "code",
   "execution_count": 22,
   "metadata": {},
   "outputs": [
    {
     "name": "stdout",
     "output_type": "stream",
     "text": [
      "- Elemento con índice 0 de la lista:\n",
      "hola\n",
      "- Elemento con índice 1 de la lista:\n",
      "ciao\n",
      "- Elemento con índice 2 de la lista:\n",
      "buen día\n"
     ]
    }
   ],
   "source": [
    "#Para acceder a sus elementos, se utiliza el []\n",
    "# Los índices comienzan en 0\n",
    "print(\"- Elemento con índice 0 de la lista:\")\n",
    "print(b[0])\n",
    "print(\"- Elemento con índice 1 de la lista:\")\n",
    "print(b[1])\n",
    "print(\"- Elemento con índice 2 de la lista:\")\n",
    "print(b[2])"
   ]
  },
  {
   "cell_type": "code",
   "execution_count": 23,
   "metadata": {},
   "outputs": [
    {
     "name": "stdout",
     "output_type": "stream",
     "text": [
      "la edad de Candela es.. 12\n"
     ]
    }
   ],
   "source": [
    "print(\"la edad de Candela es..\",c[1])"
   ]
  },
  {
   "cell_type": "code",
   "execution_count": 24,
   "metadata": {},
   "outputs": [
    {
     "name": "stdout",
     "output_type": "stream",
     "text": [
      "Lista vacía:\n",
      "[]\n",
      "- Elementos del índice 0 al 1 (2-1):\n",
      "[57, 45]\n",
      "- Elementos del índice 1 al 3 (4-1):\n",
      "[45, 7, 13]\n",
      "- Elementos desde el comienzo al indice 1 (2-1) :\n",
      "[57, 45]\n",
      "- Elementos desde el indice 1 hasta el final:\n",
      "[45, 7, 13]\n",
      "- Todos los elementos:\n",
      "[57, 45, 7, 13]\n",
      "- Rango vacío -> lista vacía:\n",
      "[]\n"
     ]
    }
   ],
   "source": [
    "# para crear una lista vacía, (sin elementos), simplemente ponemos []\n",
    "vacia=[]\n",
    "print(\"Lista vacía:\")\n",
    "print(vacia)\n",
    "\n",
    "# También podés crear una sub-lista o slice especificando un rango de indices\n",
    "print(\"- Elementos del índice 0 al 1 (2-1):\")\n",
    "print(a[0:2])\n",
    "print(\"- Elementos del índice 1 al 3 (4-1):\")\n",
    "print(a[1:4])\n",
    "#Si ponés nada antes del : se asume que pusiste 0\n",
    "print(\"- Elementos desde el comienzo al indice 1 (2-1) :\")\n",
    "print(a[:2])\n",
    "#Si no ponés nada después del : se asume que tomás todos hasta el final\n",
    "print(\"- Elementos desde el indice 1 hasta el final:\")\n",
    "print(a[1:])\n",
    "\n",
    "#Si no pones nada ni antes ni después es como tomar todo\n",
    "print(\"- Todos los elementos:\")\n",
    "print(a[:])\n",
    "\n",
    "\n",
    "#Si el fin es igual al comienzo, es un rango vacío, por ende se obtiene una lista vacía\n",
    "print(\"- Rango vacío -> lista vacía:\")\n",
    "print(a[2:2])"
   ]
  },
  {
   "cell_type": "markdown",
   "metadata": {},
   "source": [
    "# Una lista es un objeto\n",
    "Python permite definir clases y crear objetos de esas clases, pero esos temas están fuera de este tutorial. No obstante, una lista es un objeto, y tiene varios métodos. Entre ellos está el método append, que permite agregar un elemento a la lista. Los métodos se invocan de la siguiente forma objeto.metodo(parametro1,parametro2,...)."
   ]
  },
  {
   "cell_type": "code",
   "execution_count": 25,
   "metadata": {},
   "outputs": [
    {
     "name": "stdout",
     "output_type": "stream",
     "text": [
      "- Una lista con 3 strings:\n",
      "['una', 'lista', 'de']\n",
      "- La misma lista luego de agregarle un string más:\n",
      "['una', 'lista', 'de', 'strings']\n"
     ]
    }
   ],
   "source": [
    "#Por último, le podés agregar elementos a una lista con el método `append`\n",
    "print(\"- Una lista con 3 strings:\")\n",
    "a=['una','lista','de']\n",
    "print(a)\n",
    "\n",
    "print(\"- La misma lista luego de agregarle un string más:\")\n",
    "a.append('strings')\n",
    "print(a)"
   ]
  },
  {
   "cell_type": "code",
   "execution_count": 26,
   "metadata": {},
   "outputs": [
    {
     "name": "stdout",
     "output_type": "stream",
     "text": [
      "[47, 12, 5, 'cinco']\n"
     ]
    }
   ],
   "source": [
    "#le voy a añadir a la lista c, la edad de Carlos\n",
    "c.append(\"cinco\")\n",
    "print(c)"
   ]
  },
  {
   "cell_type": "markdown",
   "metadata": {},
   "source": [
    "eliminar elementos de una lista en Phyton\n",
    "\n",
    "    -eliminar el ultimo elemento de una lista metodo pop()\n",
    "\n",
    "    -eliminar por indice de la lista metodo pop(indice)\n",
    "\n",
    "    -eliminar por valor del elemento metodo remove(\"valor de lo que quieras eliminar\")"
   ]
  },
  {
   "cell_type": "code",
   "execution_count": 27,
   "metadata": {},
   "outputs": [
    {
     "data": {
      "text/plain": [
       "'cinco'"
      ]
     },
     "execution_count": 27,
     "metadata": {},
     "output_type": "execute_result"
    }
   ],
   "source": [
    "c.pop()"
   ]
  },
  {
   "cell_type": "code",
   "execution_count": 28,
   "metadata": {},
   "outputs": [
    {
     "name": "stdout",
     "output_type": "stream",
     "text": [
      "[47, 12, 5]\n"
     ]
    }
   ],
   "source": [
    "print(c)"
   ]
  },
  {
   "cell_type": "code",
   "execution_count": 29,
   "metadata": {},
   "outputs": [
    {
     "name": "stdout",
     "output_type": "stream",
     "text": [
      "[12, 5]\n"
     ]
    }
   ],
   "source": [
    "#voy a eliminar el primer elemento de la lista\n",
    "c.pop(0)\n",
    "print(c)"
   ]
  },
  {
   "cell_type": "code",
   "execution_count": 33,
   "metadata": {},
   "outputs": [
    {
     "name": "stdout",
     "output_type": "stream",
     "text": [
      "[12]\n"
     ]
    }
   ],
   "source": [
    "# voy a eliminar el elemento cinco por valor\n",
    "c.remove(5)\n",
    "print(c)"
   ]
  },
  {
   "cell_type": "markdown",
   "metadata": {},
   "source": [
    "# 1.4  Tuplas\n",
    "Las tuplas son como las listas, pero no se pueden modificar. Son como unas listas de sólo lectura. Se crean con () (paréntesis) en lugar de [] (corchetes)."
   ]
  },
  {
   "cell_type": "code",
   "execution_count": 34,
   "metadata": {},
   "outputs": [
    {
     "name": "stdout",
     "output_type": "stream",
     "text": [
      "- Una tupla de cuatro elementos:\n",
      "(1, 2, 57, 4)\n",
      "- El elemento con índice 2:\n",
      "57\n",
      "- Los elementos entre los índices 0 y 2:\n",
      "(1, 2)\n"
     ]
    }
   ],
   "source": [
    "#Podéis crear una tupla con valores entre () separados por ,\n",
    "a=(1,2,57,4)\n",
    "print(\"- Una tupla de cuatro elementos:\")\n",
    "print(a)\n",
    "print(\"- El elemento con índice 2:\")\n",
    "print(a[2])\n",
    "print(\"- Los elementos entre los índices 0 y 2:\")\n",
    "print(a[0:2])\n"
   ]
  },
  {
   "cell_type": "code",
   "execution_count": 35,
   "metadata": {},
   "outputs": [
    {
     "ename": "AttributeError",
     "evalue": "'tuple' object has no attribute 'append'",
     "output_type": "error",
     "traceback": [
      "\u001b[1;31m---------------------------------------------------------------------------\u001b[0m",
      "\u001b[1;31mAttributeError\u001b[0m                            Traceback (most recent call last)",
      "\u001b[1;32m<ipython-input-35-8e51a578b9ca>\u001b[0m in \u001b[0;36m<module>\u001b[1;34m\u001b[0m\n\u001b[0;32m      1\u001b[0m \u001b[1;31m# la siguiente línea genera un error de ejecución ¿por qué?\u001b[0m\u001b[1;33m\u001b[0m\u001b[1;33m\u001b[0m\u001b[1;33m\u001b[0m\u001b[0m\n\u001b[1;32m----> 2\u001b[1;33m \u001b[0ma\u001b[0m\u001b[1;33m.\u001b[0m\u001b[0mappend\u001b[0m\u001b[1;33m(\u001b[0m\u001b[1;36m28\u001b[0m\u001b[1;33m)\u001b[0m\u001b[1;33m\u001b[0m\u001b[1;33m\u001b[0m\u001b[0m\n\u001b[0m",
      "\u001b[1;31mAttributeError\u001b[0m: 'tuple' object has no attribute 'append'"
     ]
    }
   ],
   "source": [
    "# la siguiente línea genera un error de ejecución ¿por qué?\n",
    "a.append(28)"
   ]
  },
  {
   "cell_type": "code",
   "execution_count": 36,
   "metadata": {},
   "outputs": [
    {
     "name": "stdout",
     "output_type": "stream",
     "text": [
      "cartera\n",
      "casa\n"
     ]
    }
   ],
   "source": [
    "# Los strings son inmutables:\n",
    "a = \"casa\"\n",
    "print (a.replace('s', 'rter'))\n",
    "print (a)"
   ]
  },
  {
   "cell_type": "code",
   "execution_count": 37,
   "metadata": {},
   "outputs": [
    {
     "name": "stdout",
     "output_type": "stream",
     "text": [
      "[10, 20, 30]\n",
      "[10, 'Juan', 30]\n"
     ]
    }
   ],
   "source": [
    "# Las listas son mutables, se puede cambiar su contenido:\n",
    "a = [10, 20, 30]\n",
    "print (a)\n",
    "a[1] = \"Juan\"\n",
    "print (a)\n"
   ]
  },
  {
   "cell_type": "markdown",
   "metadata": {},
   "source": [
    "#  2 Estructuras de control\n",
    "En Python no hay llaves ({}) ni begin...end para marcar el comienzo y fin de un bloque, sino que eso se logra con la **indentación**. \n",
    "La indentación por defecto son 4 espacios en blanco o tabulación.\n",
    "\n",
    "Entonces va a ser necesario indentar correctamente para utilizar sentencias if, for o para definir funciones."
   ]
  },
  {
   "cell_type": "markdown",
   "metadata": {},
   "source": [
    "# 2.1 if\n",
    "El if es como el de otros lenguajes, pero no pide paréntesis y termina con **:**\n",
    "\n",
    "Su sintaxis es:\n",
    "\n",
    "if condicion :\n",
    "\n",
    "    cuerpo del if (indentado con 4 espacios)\n",
    "    \n",
    "else:\n",
    "    cuerpo del else (indentado con 4 espacios)\n",
    "    "
   ]
  },
  {
   "cell_type": "code",
   "execution_count": 38,
   "metadata": {},
   "outputs": [
    {
     "name": "stdout",
     "output_type": "stream",
     "text": [
      "La persona es\n",
      "Mayor\n",
      "De edad\n"
     ]
    }
   ],
   "source": [
    "edad = 25\n",
    "\n",
    "print(\"La persona es\")\n",
    "if edad < 18: # el if termina con : para indicar donde acaba la condición\n",
    "    # el print va indentado con 4 espacios para indicar que está dentro del\n",
    "    # cuerpo del if\n",
    "    print(\"Menor\") \n",
    "else:\n",
    "    #Lo mismo con este print\n",
    "    print(\"Mayor\")\n",
    "    \n",
    "print(\"De edad\")\n",
    "    "
   ]
  },
  {
   "cell_type": "code",
   "execution_count": 39,
   "metadata": {},
   "outputs": [
    {
     "name": "stdout",
     "output_type": "stream",
     "text": [
      "La intensidad es:\n",
      "0\n"
     ]
    }
   ],
   "source": [
    "#Ejercicio\n",
    "# Pasar a escala de grises el color codificado en los elementos de la lista `pixel`\n",
    "\n",
    "pixel= [0.6,0.3,0.4] # intensidades de cada canal. \n",
    "#El elemento 0 es el R, el 1 el G y el 2 el B\n",
    "\n",
    "# la intensidad en escala de grises es el promedio de la intensidad de cada canal R, G y B\n",
    "intensidad=0 # IMPLEMENTAR\n",
    "\n",
    "print(\"La intensidad es:\")\n",
    "\n",
    "print(intensidad)\n",
    "    "
   ]
  },
  {
   "cell_type": "code",
   "execution_count": 40,
   "metadata": {},
   "outputs": [
    {
     "name": "stdout",
     "output_type": "stream",
     "text": [
      "En blanco y negro el pixel sería: (0 -> negro, 1 -> blanco)\n",
      "0\n"
     ]
    }
   ],
   "source": [
    "#Ejercicio\n",
    "# Pasar a blanco y negro el valor de intensidad codificado en la variable intensidad\n",
    "\n",
    "\n",
    "# podemos considerar que un pixel se convierte en blanco si su intensidad en escala de grises es mayor a 0.5\n",
    "# y negro de lo contrario\n",
    "bw = 0 # IMPLEMENTAR\n",
    "\n",
    "print(\"En blanco y negro el pixel sería: (0 -> negro, 1 -> blanco)\")\n",
    "print(bw)"
   ]
  },
  {
   "cell_type": "markdown",
   "metadata": {},
   "source": [
    "# 2.2 For\n",
    "\n",
    "Los for son parecidos a los if, pero tienen la sintaxis for variable in lista:. En este caso, variable es la variable que va a ir cambiando, y lista es una lista de python (o un iterable que es parecido)\n",
    "\n"
   ]
  },
  {
   "cell_type": "code",
   "execution_count": 41,
   "metadata": {},
   "outputs": [
    {
     "name": "stdout",
     "output_type": "stream",
     "text": [
      "Juan\n",
      "Ana\n",
      "Pedro\n",
      "Maria\n",
      "Antonio\n",
      "Marcos\n"
     ]
    }
   ],
   "source": [
    "# Recorrer una lista:\n",
    "lista = ['Juan', 'Ana', 'Pedro', 'Maria', 'Antonio', 'Marcos']\n",
    "for I in lista:\n",
    "    print (I)"
   ]
  },
  {
   "cell_type": "code",
   "execution_count": 42,
   "metadata": {},
   "outputs": [
    {
     "name": "stdout",
     "output_type": "stream",
     "text": [
      "0 Juan\n",
      "1 Ana\n",
      "2 Pedro\n",
      "3 Maria\n",
      "4 Antonio\n",
      "5 Marcos\n"
     ]
    }
   ],
   "source": [
    "# Recorrer una lista, uso de enumerate:\n",
    "lista = ['Juan', 'Ana', 'Pedro', 'Maria', 'Antonio', 'Marcos']\n",
    "for i, x in enumerate(lista):\n",
    "    print (i, x)"
   ]
  },
  {
   "cell_type": "code",
   "execution_count": 43,
   "metadata": {},
   "outputs": [
    {
     "name": "stdout",
     "output_type": "stream",
     "text": [
      "['Maria', 'Marcos']\n"
     ]
    }
   ],
   "source": [
    "# Creamos lista con los nombres que empiezan por M:\n",
    "lista = ['Juan', 'Ana', 'Pedro', 'Maria', 'Antonio', 'Marcos']\n",
    "lista_m = [x for x in lista if x.startswith('M')]\n",
    "print (lista_m)"
   ]
  },
  {
   "cell_type": "code",
   "execution_count": 44,
   "metadata": {},
   "outputs": [
    {
     "name": "stdout",
     "output_type": "stream",
     "text": [
      "- Impresion de los elementos de la lista:\n",
      "img\n",
      "python\n",
      "numpy\n",
      "- La suma de los números es:\n",
      "42\n"
     ]
    }
   ],
   "source": [
    "print(\"- Impresion de los elementos de la lista:\")\n",
    "\n",
    "# Imprimir los strings de mi_lista por separado\n",
    "mi_lista=[\"img\",\"python\",\"numpy\"]\n",
    "for s in mi_lista:\n",
    "    print(s)# este print va con indentación\n",
    "    \n",
    "#calcular la suma de los números e imprimirla\n",
    "suma=0\n",
    "mis_numeros=[5,8,17,12]\n",
    "for numero in mis_numeros:\n",
    "    suma=suma+numero\n",
    "print(\"- La suma de los números es:\")\n",
    "print(suma)"
   ]
  },
  {
   "cell_type": "markdown",
   "metadata": {},
   "source": [
    "Cuando no tenemos una lista y queremos hacer un for \"común\"\n",
    "y que la variable que cambia sea un número que va incrementándose, podemos utilizar la función **range**.\n",
    "\n"
   ]
  },
  {
   "cell_type": "code",
   "execution_count": 45,
   "metadata": {},
   "outputs": [
    {
     "name": "stdout",
     "output_type": "stream",
     "text": [
      "Un for de 0 a 3\n",
      "0\n",
      "1\n",
      "2\n",
      "3\n",
      "- Un for de 2 a 5:\n",
      "2\n",
      "3\n",
      "4\n",
      "5\n"
     ]
    }
   ],
   "source": [
    "#un for de 0 a 3, para imprimir esos valores\n",
    "print(\"Un for de 0 a 3\")\n",
    "for i in range(4):\n",
    "    print(i)\n",
    "    \n",
    "#En Python los índices comienzan en 0, y por eso los rangos también.\n",
    "    \n",
    "\n",
    "#También se puede comenzar el rango en otro valor en lugar de 0\n",
    "print(\"- Un for de 2 a 5:\")\n",
    "for j in range(2,6):\n",
    "    print(j)"
   ]
  },
  {
   "cell_type": "code",
   "execution_count": 46,
   "metadata": {},
   "outputs": [
    {
     "name": "stdout",
     "output_type": "stream",
     "text": [
      "- El maximo es:\n",
      "0\n"
     ]
    }
   ],
   "source": [
    "#Ejercicio: Escribir un for para buscar el máximo de la lista e imprimirlo\n",
    "lista=[44,11,15,29,53,12,30]\n",
    "maximo=0\n",
    "# IMPLEMENTAR\n",
    "\n",
    "# debe imprimir 53\n",
    "print(\"- El maximo es:\")\n",
    "print(maximo)"
   ]
  },
  {
   "cell_type": "code",
   "execution_count": 47,
   "metadata": {},
   "outputs": [
    {
     "name": "stdout",
     "output_type": "stream",
     "text": [
      "- La posición del máximo es:\n",
      "0\n"
     ]
    }
   ],
   "source": [
    "#Ejercicio: Escribir un for para buscar el máximo de la lista e imprimir su _posición_\n",
    "lista=[44,11,15,29,53,12,30]\n",
    "posicion=0\n",
    "# IMPLEMENTAR\n",
    "\n",
    "#debe imprimir 4\n",
    "print(\"- La posición del máximo es:\")\n",
    "print(posicion)"
   ]
  },
  {
   "cell_type": "markdown",
   "metadata": {},
   "source": [
    "#  3 Funciones\n",
    "Las funciones se definen con la palabra clave def y tienen la sintaxis def nombre_funcion(parametros):. Para devolver un valor utilizamos la palabra clave  return."
   ]
  },
  {
   "cell_type": "code",
   "execution_count": 48,
   "metadata": {},
   "outputs": [
    {
     "name": "stdout",
     "output_type": "stream",
     "text": [
      "2+5=\n",
      "7\n",
      "los elementos de la lista suman:\n",
      "180\n"
     ]
    }
   ],
   "source": [
    "#esta funcion recibe dos números y devuelve su suma\n",
    "\n",
    "def sumar(a,b):\n",
    "    return a+b\n",
    "\n",
    "\n",
    "c=sumar(2,5)\n",
    "print(\"2+5=\")\n",
    "print(c)\n",
    "\n",
    "\n",
    "#esta funcion recibe una lista y devuelve la suma de sus elementos\n",
    "def sumar_todos(lista):\n",
    "    suma=0\n",
    "    for v in lista:\n",
    "        suma+=v\n",
    "    return suma\n",
    "\n",
    "mi_lista=[54,12,99,15]\n",
    "print(\"los elementos de la lista suman:\")\n",
    "print(sumar_todos(mi_lista))"
   ]
  },
  {
   "cell_type": "code",
   "execution_count": 49,
   "metadata": {},
   "outputs": [
    {
     "name": "stdout",
     "output_type": "stream",
     "text": [
      "0\n"
     ]
    }
   ],
   "source": [
    "#Ejercicio\n",
    "# Escribir una función que reciba una lista y un valor, \n",
    "#y devuelva la cantidad de veces que aparece ese valor en la lista\n",
    "\n",
    "def ocurrencias(lista,valor):\n",
    "    # IMPLEMENTAR\n",
    "    return 0\n",
    "\n",
    "\n",
    "l=[1,4,2,3,5,1,4,2,3,6,1,7,1,3,5,1,1,5,3,2]\n",
    "v=2\n",
    "\n",
    "print(ocurrencias(l,v))"
   ]
  },
  {
   "cell_type": "markdown",
   "metadata": {},
   "source": [
    " # 4 El IPython Notebook\n",
    "\n",
    "El IPython Notebook es un entorno de desarrollo interactivo que combina ejecución de código, edición de\n",
    "texto, ecuaciones matemáticas tipo LaTex, gráficos y otros elementos multimedia. Puede ser ejecutado en\n",
    "cualquier navegador web. A continuación vamos a revisar algunos comandos útiles que permiten, desde el\n",
    "notebook, obtener información sobre los diferentes objetos, ejecutar scripts de Python, medir los tiempos de\n",
    "ejecución o interactuar con el sistema operativo.\n",
    "\n",
    "#  4. 1 Introspección\n",
    "Usamos el símbolo ? para obtener información de cualquier objeto, incluyendo funciones o métodos. El\n",
    "símbolo ?? muestra además el código fuente siempre que sea posible."
   ]
  },
  {
   "cell_type": "code",
   "execution_count": 50,
   "metadata": {},
   "outputs": [],
   "source": [
    "# Ejemplo con una lista:\n",
    "a = [1, 2, 3]\n",
    "a?"
   ]
  },
  {
   "cell_type": "code",
   "execution_count": 51,
   "metadata": {},
   "outputs": [],
   "source": [
    "# También puede ser una función:\n",
    "len?"
   ]
  },
  {
   "cell_type": "code",
   "execution_count": 52,
   "metadata": {},
   "outputs": [],
   "source": [
    "# Definimos la función hello:\n",
    "def hello(nombre):\n",
    "    \"\"\" Esta funcion saluda \"\"\"\n",
    "    print (\"hello \" + nombre + \"!\")"
   ]
  },
  {
   "cell_type": "code",
   "execution_count": 53,
   "metadata": {},
   "outputs": [],
   "source": [
    "# Hacemos hello?? para acceder al código fuente:\n",
    "hello??"
   ]
  },
  {
   "cell_type": "markdown",
   "metadata": {},
   "source": [
    "Se puede combinar ? con el comodín * para obtener una lista de los objetos disponibles que satisfagan una\n",
    "determinada condición. Por ejemplo, podemos buscar todos los objetos y funciones que empiecen por a\n",
    "haciendo lo siguiente:"
   ]
  },
  {
   "cell_type": "code",
   "execution_count": 54,
   "metadata": {},
   "outputs": [],
   "source": [
    "# Buscamos todos los objetos que empiezan por a:\n",
    "a*?"
   ]
  },
  {
   "cell_type": "markdown",
   "metadata": {},
   "source": [
    "# 4.2. Ejecutar un script de código desde IPython\n",
    "Podemos ejecutar cualquier script de python usando el comando %run. \n",
    "\n",
    "Por ejemplo, construimos el script suma.py con el siguiente codigo (ponedlo en la misma carpeta que el notebook)\n",
    "contiene el siguiente código:\n",
    "\n",
    "def suma(x, y):\n",
    "\n",
    "\treturn x + y\n",
    "    \n",
    "a = 10\n",
    "\n",
    "b = 20\n",
    "\n",
    "c = suma(a, b)"
   ]
  },
  {
   "cell_type": "code",
   "execution_count": 55,
   "metadata": {},
   "outputs": [
    {
     "name": "stdout",
     "output_type": "stream",
     "text": [
      "C:\\Users\\lucas\\Documents\\Atrium\\modulo python\n"
     ]
    }
   ],
   "source": [
    "# para saber en que directorio estamos trabajando y donde guardar el script suma.py\n",
    "import os\n",
    "print (os.getcwd())"
   ]
  },
  {
   "cell_type": "code",
   "execution_count": 56,
   "metadata": {},
   "outputs": [
    {
     "name": "stderr",
     "output_type": "stream",
     "text": [
      "ERROR:root:File `'suma.py'` not found.\n"
     ]
    }
   ],
   "source": [
    "# Una vez creado Ejecutamos el script suma.py:\n",
    "%run suma.py"
   ]
  },
  {
   "cell_type": "markdown",
   "metadata": {},
   "source": [
    "Y una vez ejecutado tenemos acceso a todas las variables y funciones definidas en el fichero:"
   ]
  },
  {
   "cell_type": "code",
   "execution_count": 57,
   "metadata": {},
   "outputs": [
    {
     "name": "stdout",
     "output_type": "stream",
     "text": [
      "[1, 2, 3] ['hola', 'ciao', 'buen día'] 7\n"
     ]
    }
   ],
   "source": [
    "# Accedemos a las variables a, b, y c definidas en suma.py:\n",
    "print (a, b, c)"
   ]
  },
  {
   "cell_type": "code",
   "execution_count": 58,
   "metadata": {},
   "outputs": [],
   "source": [
    "# Accedemos al código fuente de la función suma:\n",
    "suma??"
   ]
  },
  {
   "cell_type": "markdown",
   "metadata": {},
   "source": [
    "**Ahora ejecutaremos un script por consola dando parámetros**"
   ]
  },
  {
   "cell_type": "markdown",
   "metadata": {},
   "source": [
    "# 4.3 Comandos mágicos (magic commands)\n",
    "El comando %run que acabamos de ver es un ejemplo de lo que se conoce como comandos mágicos. Los\n",
    "comandos mágicos de IPython siempre empiezan por el carácter %, y se usan para facilitar determinadas\n",
    "tareas de uso frecuente. Existen comandos mágicos que se aplican a una única línea (empiezan por %) y\n",
    "comandos mágicos que se aplican a una celda completa (empiezan por %%).\n",
    "En este enlace (http://ipython.readthedocs.io/en/stable/interactive/magics.html?highlight=magic) tienes una\n",
    "lista completa de los comandos mágicos disponibles en IPython.\n",
    "A continuación veremos algunos de los más interesantes."
   ]
  },
  {
   "cell_type": "markdown",
   "metadata": {},
   "source": [
    "Medir el tiempo de ejecución\n",
    "El comando %time (http://ipython.readthedocs.io/en/stable/interactive/magics.html?\n",
    "highlight=magic#magictime)\n",
    "mide el tiempo de ejecución de una sentencia o expresión, y devuelve el\n",
    "valor de la misma."
   ]
  },
  {
   "cell_type": "code",
   "execution_count": 59,
   "metadata": {},
   "outputs": [
    {
     "name": "stdout",
     "output_type": "stream",
     "text": [
      "Wall time: 539 ms\n"
     ]
    },
    {
     "data": {
      "text/plain": [
       "49999995000000"
      ]
     },
     "execution_count": 59,
     "metadata": {},
     "output_type": "execute_result"
    }
   ],
   "source": [
    "# Usamos %time para medir el tiempo de ejecución de una línea de código:\n",
    "n = 10000000\n",
    "%time sum(range(n))"
   ]
  },
  {
   "cell_type": "markdown",
   "metadata": {},
   "source": [
    "Para medir el tiempo de ejecución de una celda completa podemos usar el comando %%time. El comando\n",
    "%%time debe ser el primero de la celda (antes incluso de un comentario)."
   ]
  },
  {
   "cell_type": "code",
   "execution_count": 60,
   "metadata": {},
   "outputs": [
    {
     "name": "stdout",
     "output_type": "stream",
     "text": [
      "Wall time: 1.8 s\n"
     ]
    }
   ],
   "source": [
    "%%time\n",
    "# Usamos %%time para medir el tiempo de ejecución de toda la celda:\n",
    "sum(range(n))\n",
    "sum(range(n))\n",
    "sum(range(n))"
   ]
  },
  {
   "cell_type": "markdown",
   "metadata": {},
   "source": [
    "# Hacer una copia del histórico de comandos (log)\n",
    "\n",
    "Es posible almacenar toda la sesión de IPython utilizando el comando mágico %logstart\n",
    "(http://ipython.readthedocs.io/en/stable/interactive/magics.html?highlight=magic#magiclogstart)\n",
    "(y sus\n",
    "amigos %logstop, %logon, %logoff, etc.). Una vez que se llama a %logstart se empieza a grabar toda la\n",
    "sesión (incluyendo comandos previos), hasta que se detiene con %logoff o %logstop.\n",
    "En el siguiente ejemplo vamos a crear un fichero de logs con el nombre ejemplo_logs.py. Iniciamos el log\n",
    "con %logstart y a continuación lo paramos con %logstop. Aunque paramos el log inmediatamente\n",
    "después de abrirlo, se almacena toda la sesión hasta este momento."
   ]
  },
  {
   "cell_type": "code",
   "execution_count": 61,
   "metadata": {},
   "outputs": [
    {
     "name": "stdout",
     "output_type": "stream",
     "text": [
      "Activating auto-logging. Current session state plus future input saved.\n",
      "Filename       : ejemplo_logs.py\n",
      "Mode           : backup\n",
      "Output logging : False\n",
      "Raw input log  : False\n",
      "Timestamping   : False\n",
      "State          : active\n"
     ]
    }
   ],
   "source": [
    "# Almacenamos toda la sesión hasta este momento en un fichero de log:\n",
    "%logstart ejemplo_logs.py\n",
    "%logstop"
   ]
  },
  {
   "cell_type": "markdown",
   "metadata": {},
   "source": [
    "# Depuración del código\n",
    "Los comandos mágicos %debug (http://ipython.readthedocs.io/en/stable/interactive/magics.html?\n",
    "highlight=magic#magicdebug)\n",
    "\n",
    "y %pdb (http://ipython.readthedocs.io/en/stable/interactive/magics.html?\n",
    "highlight=magic#magicpdb)\n",
    "\n",
    "pueden usarse para depurar el código. Un uso frecuente de %debug es su\n",
    "ejecución inmediatamente después de que haya ocurrido una excepción (**modo postmortem**).\n",
    "\n",
    "Esto hace que\n",
    "IPython entre en el depurador interactivo, que nos permite movernos por la pila de llamadas a funciones con\n",
    "los comandos u (up) y d (down), así como acceder a todos los objetos definidos."
   ]
  },
  {
   "cell_type": "code",
   "execution_count": 62,
   "metadata": {},
   "outputs": [],
   "source": [
    "def suma(x1, x2):\n",
    "    return x1 + x2"
   ]
  },
  {
   "attachments": {
    "image.png": {
     "image/png": "[encoded data removed]"
    }
   },
   "cell_type": "markdown",
   "metadata": {},
   "source": [
    "![image.png](attachment:image.png)\n"
   ]
  },
  {
   "cell_type": "markdown",
   "metadata": {},
   "source": [
    "# 5 Interacción con el sistema operativo"
   ]
  },
  {
   "cell_type": "markdown",
   "metadata": {},
   "source": [
    "Cualquier línea que empiece por una exclamación (!) indica que lo que viene a continuación es un comando\n",
    "para el sistema operativo. De este modo tenemos acceso muy fácilmente a todos los comandos del sistema\n",
    "(copiar o mover ficheros, lanzar otros procesos, etc.). A continuación se muestran algunos ejemplos (linux) (DOS):"
   ]
  },
  {
   "cell_type": "code",
   "execution_count": 63,
   "metadata": {},
   "outputs": [
    {
     "name": "stdout",
     "output_type": "stream",
     "text": [
      " El volumen de la unidad C es Windows-SSD\n",
      " El número de serie del volumen es: D28C-8F20\n",
      "\n",
      " Directorio de C:\\Users\\lucas\\Documents\\Atrium\\modulo python\n",
      "\n"
     ]
    },
    {
     "name": "stderr",
     "output_type": "stream",
     "text": [
      "No se encuentra el archivo\n"
     ]
    }
   ],
   "source": [
    "# Mostrar el contenido del directorio actual:\n",
    "# !ls linux\n",
    "!dir \"\"\"DOS (windows)\"\"\""
   ]
  },
  {
   "cell_type": "code",
   "execution_count": 64,
   "metadata": {},
   "outputs": [
    {
     "name": "stderr",
     "output_type": "stream",
     "text": [
      "El sistema no puede encontrar el archivo especificado.\n",
      "Error mientras se procesaba: suma.py.\n",
      "El sistema no puede encontrar el archivo especificado.\n",
      "Error mientras se procesaba: en DOS (windows).\n"
     ]
    }
   ],
   "source": [
    "# Ver el contenido de un fichero con cat:\n",
    "# !cat suma.py  en linux\n",
    "\n",
    "!type   suma.py \"\"\"en DOS (windows)\"\"\""
   ]
  },
  {
   "cell_type": "code",
   "execution_count": 65,
   "metadata": {},
   "outputs": [
    {
     "name": "stdout",
     "output_type": "stream",
     "text": [
      " El volumen de la unidad C es Windows-SSD\n",
      " El número de serie del volumen es: D28C-8F20\n",
      "\n",
      " Directorio de C:\\Users\\lucas\\Documents\\Atrium\\modulo python\n",
      "\n",
      "23/12/2019  12:44    <DIR>          .\n",
      "23/12/2019  12:44    <DIR>          ..\n",
      "06/09/2019  16:04    <DIR>          .ipynb_checkpoints\n",
      "23/12/2019  12:44                 0 auxfile.txt\n",
      "20/07/2019  13:09    <DIR>          cancer_predicion\n",
      "12/07/2019  18:45         1.064.257 cancer_predicion-20190712T174504Z-001.zip\n",
      "25/02/2017  01:35           451.077 Census.ipynb\n",
      "25/07/2019  11:14    <DIR>          clasifi-regresion\n",
      "28/06/2019  18:59             2.614 contarpalabras_facil_2.py\n",
      "29/06/2019  08:50             6.534 contar_palabras.py\n",
      "16/06/2019  12:12           365.568 CONTENIDOS_BIG_DATA.doc\n",
      "12/07/2019  18:45           364.637 Data Cleaning with Numpy and PANDAS-1 (1).pdf\n",
      "12/07/2019  18:47           364.637 Data Cleaning with Numpy and PANDAS-1 (2).pdf\n",
      "29/06/2019  10:29         3.680.135 deep leraning.pptx\n",
      "23/12/2019  12:44            12.534 ejemplo_logs.py\n",
      "23/12/2019  12:40             4.185 ejemplo_logs.py~\n",
      "29/06/2019  08:50            20.937 estads.py\n",
      "16/06/2019  13:19           944.894 fl_python_intro.pdf\n",
      "29/06/2019  09:06                18 guru99.txt\n",
      "29/06/2019  11:48           641.326 matplotlib_teoria.ipynb\n",
      "24/11/2019  20:43             1.048 modulo python - Acceso directo.lnk\n",
      "22/06/2019  07:57        11.027.538 MÓDULO 4  PYTHON PARA ANÁLISIS DE DATOS-Chema Perez.pptx\n",
      "02/11/2019  13:03         5.068.259 MÓDULO 4 - PYTHON PARA ANÁLISIS DE DATOS - total.pdf\n",
      "29/08/2019  07:15            29.822 nnt_intro.ipynb\n",
      "13/07/2019  11:05           637.388 NOTEBOOKAYUDA_LIMPIEZA.ipynb\n",
      "29/06/2019  09:28            94.344 numpy_alumn.ipynb\n",
      "23/12/2019  12:13    <DIR>          online\n",
      "29/06/2019  09:35           216.325 pandas_Profesor-Alumno.ipynb\n",
      "29/06/2019  09:12           217.619 pandas_Profesor.ipynb\n",
      "20/07/2019  12:07    <DIR>          preprocesamiento 2\n",
      "12/07/2019  18:50           210.968 preprocesamiento 2.rar\n",
      "20/07/2019  09:17            13.656 preprocesamiento_de_Datos_red_trasportes.ipynb\n",
      "06/07/2019  08:53        11.235.549 py_v2.pptx\n",
      "28/06/2019  18:57            14.822 quijote1.txt\n",
      "20/07/2019  00:32            11.533 regresion.yp\n",
      "06/09/2019  16:06           225.333 Regresion_logistica.ipynb\n",
      "28/06/2019  17:09                 0 second_text.txt\n",
      "23/12/2019  12:44           157.458 Sesion 1 -  Introduccion a Python Data Types and Variables-Alumnos.ipynb\n",
      "22/06/2019  11:42           157.971 Sesion 1 -  Introduccion a Python Data Types and Variables-checkpoint.ipynb\n",
      "29/06/2019  09:08            18.444 Sesion 2 -  Introduccion a Python ficheros_funciones ejercicios profesor.ipynb\n",
      "29/06/2019  13:10            45.707 Session 10 - Lists-Alumno.ipynb\n",
      "29/06/2019  08:50             6.808 strings.py\n",
      "20/07/2019  00:32             2.341 usuarios_win_mac_lin.csv\n",
      "29/08/2019  07:15            10.894 wine_data.csv\n",
      "              37 archivos     37.327.180 bytes\n",
      "               7 dirs  85.516.484.608 bytes libres\n"
     ]
    }
   ],
   "source": [
    "# Crear nuevo fichero que contenga el resultado de un ls y ver su contenido:\n",
    "#Linux\n",
    "#!ls -lh > auxfile.txt\n",
    "#!cat auxfile.txt\n",
    "\n",
    "# en DOS\n",
    "!dir /p >> auxfile.txt\n",
    "!type auxfile.txt"
   ]
  },
  {
   "cell_type": "code",
   "execution_count": 66,
   "metadata": {},
   "outputs": [
    {
     "name": "stdout",
     "output_type": "stream",
     "text": [
      " El volumen de la unidad C es Windows-SSD\n",
      " El número de serie del volumen es: D28C-8F20\n",
      "\n",
      " Directorio de C:\\Users\\lucas\\Documents\\Atrium\\modulo python\n",
      "\n",
      "23/12/2019  12:44    <DIR>          .\n",
      "23/12/2019  12:44    <DIR>          ..\n",
      "06/09/2019  16:04    <DIR>          .ipynb_checkpoints\n",
      "20/07/2019  13:09    <DIR>          cancer_predicion\n",
      "12/07/2019  18:45         1.064.257 cancer_predicion-20190712T174504Z-001.zip\n",
      "25/02/2017  01:35           451.077 Census.ipynb\n",
      "25/07/2019  11:14    <DIR>          clasifi-regresion\n",
      "28/06/2019  18:59             2.614 contarpalabras_facil_2.py\n",
      "29/06/2019  08:50             6.534 contar_palabras.py\n",
      "16/06/2019  12:12           365.568 CONTENIDOS_BIG_DATA.doc\n",
      "12/07/2019  18:45           364.637 Data Cleaning with Numpy and PANDAS-1 (1).pdf\n",
      "12/07/2019  18:47           364.637 Data Cleaning with Numpy and PANDAS-1 (2).pdf\n",
      "29/06/2019  10:29         3.680.135 deep leraning.pptx\n",
      "23/12/2019  12:44            12.534 ejemplo_logs.py\n",
      "23/12/2019  12:40             4.185 ejemplo_logs.py~\n",
      "29/06/2019  08:50            20.937 estads.py\n",
      "16/06/2019  13:19           944.894 fl_python_intro.pdf\n",
      "29/06/2019  09:06                18 guru99.txt\n",
      "29/06/2019  11:48           641.326 matplotlib_teoria.ipynb\n",
      "24/11/2019  20:43             1.048 modulo python - Acceso directo.lnk\n",
      "22/06/2019  07:57        11.027.538 MÓDULO 4  PYTHON PARA ANÁLISIS DE DATOS-Chema Perez.pptx\n",
      "02/11/2019  13:03         5.068.259 MÓDULO 4 - PYTHON PARA ANÁLISIS DE DATOS - total.pdf\n",
      "29/08/2019  07:15            29.822 nnt_intro.ipynb\n",
      "13/07/2019  11:05           637.388 NOTEBOOKAYUDA_LIMPIEZA.ipynb\n",
      "29/06/2019  09:28            94.344 numpy_alumn.ipynb\n",
      "23/12/2019  12:13    <DIR>          online\n",
      "29/06/2019  09:35           216.325 pandas_Profesor-Alumno.ipynb\n",
      "29/06/2019  09:12           217.619 pandas_Profesor.ipynb\n",
      "20/07/2019  12:07    <DIR>          preprocesamiento 2\n",
      "12/07/2019  18:50           210.968 preprocesamiento 2.rar\n",
      "20/07/2019  09:17            13.656 preprocesamiento_de_Datos_red_trasportes.ipynb\n",
      "06/07/2019  08:53        11.235.549 py_v2.pptx\n",
      "28/06/2019  18:57            14.822 quijote1.txt\n",
      "20/07/2019  00:32            11.533 regresion.yp\n",
      "06/09/2019  16:06           225.333 Regresion_logistica.ipynb\n",
      "28/06/2019  17:09                 0 second_text.txt\n",
      "23/12/2019  12:44           157.458 Sesion 1 -  Introduccion a Python Data Types and Variables-Alumnos.ipynb\n",
      "22/06/2019  11:42           157.971 Sesion 1 -  Introduccion a Python Data Types and Variables-checkpoint.ipynb\n",
      "29/06/2019  09:08            18.444 Sesion 2 -  Introduccion a Python ficheros_funciones ejercicios profesor.ipynb\n",
      "29/06/2019  13:10            45.707 Session 10 - Lists-Alumno.ipynb\n",
      "29/06/2019  08:50             6.808 strings.py\n",
      "20/07/2019  00:32             2.341 usuarios_win_mac_lin.csv\n",
      "29/08/2019  07:15            10.894 wine_data.csv\n",
      "              36 archivos     37.327.180 bytes\n",
      "               7 dirs  85.516.488.704 bytes libres\n"
     ]
    }
   ],
   "source": [
    "# Borrar el fichero anterior y comprobar con ls que ya no está:\n",
    "#!rm auxfile.txt\n",
    "#!ls\n",
    "!del auxfile.txt\n",
    "!dir /p\n",
    "\n"
   ]
  },
  {
   "cell_type": "markdown",
   "metadata": {},
   "source": [
    "# Sesion 1 Tu Turno – Data Types"
   ]
  },
  {
   "cell_type": "markdown",
   "metadata": {},
   "source": [
    "1. **Calcular los beneficios después de impuestos** \n",
    "\n",
    "1.1. Cree una variable que almacene los ingresos brutos de un individuo en el año 2018, que en este caso será de 75,000 euros. Llame a esta variable ```income_before_taxes```."
   ]
  },
  {
   "cell_type": "code",
   "execution_count": 1,
   "metadata": {},
   "outputs": [],
   "source": [
    "income_before_taxes = 75000"
   ]
  },
  {
   "cell_type": "markdown",
   "metadata": {},
   "source": [
    "1.2. La tasa impositiva efectiva de la persona en el ejemplo anterior es 21.5%. Crea una nueva variable, llamada ```tax_rate```, que almacena la tasa efectiva de impuestos."
   ]
  },
  {
   "cell_type": "code",
   "execution_count": 2,
   "metadata": {},
   "outputs": [],
   "source": [
    "tax_rate = 21.5"
   ]
  },
  {
   "cell_type": "markdown",
   "metadata": {},
   "source": [
    "1.3. Cree una nueva variable, llamada ```income_after_taxes```, que almacene el ingreso neto de la persona. Por favor, usa las variables creadas previamente."
   ]
  },
  {
   "cell_type": "code",
   "execution_count": 3,
   "metadata": {},
   "outputs": [],
   "source": [
    "income_after_taxes = income_before_taxes * (tax_rate/100)"
   ]
  },
  {
   "cell_type": "markdown",
   "metadata": {},
   "source": [
    "1.4. Comprueba qué tipo de variable es ```income_after_taxes```."
   ]
  },
  {
   "cell_type": "code",
   "execution_count": 5,
   "metadata": {},
   "outputs": [
    {
     "name": "stdout",
     "output_type": "stream",
     "text": [
      "16125.0\n"
     ]
    }
   ],
   "source": [
    "print(income_after_taxes)"
   ]
  },
  {
   "cell_type": "markdown",
   "metadata": {},
   "source": [
    "2. **Cálculo de la longitud de la hipotenusa**\n",
    "\n",
    "Imagina que un triángulo rectángulo con lados es $ a = 4 $, $ b = 3 $ y $ c $ (desconocido). Si el lado $ c $ es la hipótesis, calcule su longitud. Use ```print ()``` para mostrar la solución."
   ]
  },
  {
   "cell_type": "code",
   "execution_count": 7,
   "metadata": {},
   "outputs": [],
   "source": [
    "import math"
   ]
  },
  {
   "cell_type": "code",
   "execution_count": 9,
   "metadata": {},
   "outputs": [
    {
     "name": "stdout",
     "output_type": "stream",
     "text": [
      "5.0\n"
     ]
    }
   ],
   "source": [
    "a = 4\n",
    "b = 3\n",
    "c = math.sqrt(a**2 + b**2)\n",
    "print(c)"
   ]
  },
  {
   "cell_type": "markdown",
   "metadata": {},
   "source": [
    "3. **Calculo del area de un trapezoide**\n",
    "\n",
    "Un trapezoide (o trapecio) es un cuadrilátero con dos lados paralelos. Un ejemplo de este trapecio se puede ver en la siguiente figura:\n",
    "\n",
    "![A trapezoide](https://qph.fs.quoracdn.net/main-qimg-d5e9b5429ae03182bf261aaeb98fd1b5 \"A trapezoid\")\n",
    "\n",
    "\n",
    "El area de esta figura se calcula como:\n",
    "$$A = h \\frac{a + b}{2}$$\n",
    "\n",
    "Imagine un trapecio con lados iguales a 5 y 10, y una altura igual a 6. Asigne nombres de variables a estos valores y use estos nombres para calcular el área de dicho trapecio y muestre la solución."
   ]
  },
  {
   "cell_type": "code",
   "execution_count": 10,
   "metadata": {},
   "outputs": [
    {
     "name": "stdout",
     "output_type": "stream",
     "text": [
      "45.0\n"
     ]
    }
   ],
   "source": [
    "a = 5\n",
    "b = 10\n",
    "h = 6\n",
    "A = h*((a + b)/2)\n",
    "print(A)"
   ]
  },
  {
   "cell_type": "markdown",
   "metadata": {},
   "source": [
    "4. **Cálculo del ingreso después de impuestos (avanzado) Cálculo del ingreso después de impuestos (avanzado)**\n",
    "\n",
    "Recuerde a la persona en el Ejercicio 1. Escriba un programa Python que le solicite al usuario su ingreso anual bruto el año pasado y devuelve como resultado el total de impuestos que tiene que pagar, asumiendo una tasa impositiva efectiva del 21.5%. Use ```print ()``` para mostrar la solución.\n",
    "\n",
    "** Nota: ** hay un problema aquí que tendrá que considerar. Al leer la entrada del usuario, se proporcionará como una cadena (`` `str```). Sin embargo, para poder operar con él, deberá convertir el tipo de datos a uno válido. Este proceso se llama * casting *. Puedes hacer esto usando una sintaxis como la siguiente:\n",
    "\n",
    "```num = float (<input>)```\n",
    "\n",
    "En el código anterior, ```<entrada>``` se refiere a la variable que desea convertir, que por supuesto debe tener el formato correcto."
   ]
  },
  {
   "cell_type": "code",
   "execution_count": null,
   "metadata": {},
   "outputs": [],
   "source": [
    "income = float(input(\"Introduzca sus ingresos anuales brutos del año 2018: \"))\n",
    "tax = 0.215\n",
    "print(\"El total de ingresos a pagar es\", income*tax )\n"
   ]
  },
  {
   "cell_type": "markdown",
   "metadata": {},
   "source": [
    "5. **Cálculo del ingreso después de impuestos (avanzado +)**\n",
    "\n",
    "Tomemos el ejemplo del ejercicio anterior. Ahora escriba un programa de Python que le pida al usuario primero su ingreso anual bruto en el último año, y luego, su tasa impositiva efectiva. Calcule los impuestos correspondientes e imprima la solución."
   ]
  },
  {
   "cell_type": "code",
   "execution_count": null,
   "metadata": {},
   "outputs": [],
   "source": [
    "income = float(input(\"Introduzca sus ingresos anuales brutos del ultimo año: \"))\n",
    "tax = float(input(\"Introduzca su tasa impositiva efectiva en %: \"))\n",
    "print(\"El total de ingresos a pagar es\", income*(tax/100))"
   ]
  },
  {
   "cell_type": "markdown",
   "metadata": {},
   "source": [
    "6. **Cálculo del ingreso después de impuestos (avanzado ++)**\n",
    "\n",
    "Vamos a ampliar el programa anterior. Escriba uno nuevo que primero le pida al usuario su nombre. Segundo pregunte por los ingresos brutos del año pasado. En tercer lugar, pregunte por la tasa efectiva de impuestos. Finalmente, calcule sus impuestos y muestre la solución de la siguiente forma:\n",
    "\n",
    "```Hello, [name provided]. Your taxes for the last year total [taxes calculate].```"
   ]
  },
  {
   "cell_type": "code",
   "execution_count": 5,
   "metadata": {},
   "outputs": [
    {
     "name": "stdout",
     "output_type": "stream",
     "text": [
      "¿Cual es tu nombre?luis\n",
      "Introduzca sus ingresos anuales brutos del año pasado: 34000\n",
      "Introduzca su tasa impositiva efectiva en %: 21.5\n",
      "Hello, Luis. Your taxes for the last year total 7310.0.\n"
     ]
    }
   ],
   "source": [
    "name = input(\"¿Cual es tu nombre?\")\n",
    "income = float(input(\"Introduzca sus ingresos anuales brutos del año pasado: \"))\n",
    "tax = float(input(\"Introduzca su tasa impositiva efectiva en %: \"))\n",
    "print(\"Hello, {}. Your taxes for the last year total {}.\".format(name.capitalize(), income*(tax/100)))"
   ]
  },
  {
   "cell_type": "markdown",
   "metadata": {},
   "source": [
    "7. **Convertir Celsius a Farenheit**\n",
    "\n",
    "La ecuación que relaciona las temperaturas en grados Fahrenheit ($ T_f $) y en grados Celsius ($ T_c $) es la siguiente:\n",
    "\n",
    "$$ T_f = T_c \\frac{9}{5} + 32 $$\n",
    "\n",
    "Escriba un programa de Python que le pida al usuario la temperatura en grados Celsius y le devuelva grados Fahrenheit en la forma:\n",
    "\n",
    "```[temperatura proporcionada en Celsius] grados Celsius es equivalente a [emperatura Fahrenheit] grados Fahrenheit.```"
   ]
  },
  {
   "cell_type": "code",
   "execution_count": 5,
   "metadata": {},
   "outputs": [
    {
     "name": "stdout",
     "output_type": "stream",
     "text": [
      "Introduce la temperatura en grados Celsius: 30\n",
      "30.0 grados Celsius es equivalente a 86.0 grados Fahrenheit\n"
     ]
    }
   ],
   "source": [
    "c = float(input(\"Introduce la temperatura en grados Celsius: \"))\n",
    "f = c*(9/5) + 32\n",
    "print(f\"{c} grados Celsius es equivalente a {f} grados Fahrenheit\")"
   ]
  },
  {
   "cell_type": "markdown",
   "metadata": {},
   "source": [
    "8. **Convertir Farenheit a Celsius**\n",
    "\n",
    "Usando la información del ejercicio anterior, escribe el programa opuesto. Esto es, un programa donde el usuario introduce grados Fahrenheit y obtiene como resultado la temperatura en grados Celsius."
   ]
  },
  {
   "cell_type": "code",
   "execution_count": 1,
   "metadata": {},
   "outputs": [
    {
     "name": "stdout",
     "output_type": "stream",
     "text": [
      "Introduce la temperatura en grados Ferenheit: 86\n",
      "86.0 grados Farenheit es equivalente a 30.0 grados Celsius\n"
     ]
    }
   ],
   "source": [
    "f = float(input(\"Introduce la temperatura en grados Ferenheit: \"))\n",
    "c = ((f-32)*5)/9\n",
    "print(f\"{f} grados Farenheit es equivalente a {c} grados Celsius\")"
   ]
  },
  {
   "cell_type": "markdown",
   "metadata": {},
   "source": [
    "9. **Cálculo del área de un trapecio (avanzado)**\n",
    "\n",
    "Recuerda el trapecio en el ejercicio 3 anterior. Escriba un programa que le pida al usuario el valor de cada uno de los dos lados, así como la altura de un trapecio. Calcule el área de dicho cuadrilátero y visualice el siguiente texto:\n",
    "\n",
    "```El área del trapecio es: [valor del área].```"
   ]
  },
  {
   "cell_type": "code",
   "execution_count": 2,
   "metadata": {},
   "outputs": [
    {
     "name": "stdout",
     "output_type": "stream",
     "text": [
      "Bienvenido! Vamos a calcular el area de un trapecio\n",
      "Introduce la longitud del lado superior en metros: 6\n",
      "Ahora la longitud del lado inferior en metros: 4\n",
      "Ahora la altura en metros: 3\n",
      "El area del trapecio es: 15.0 metros.\n"
     ]
    }
   ],
   "source": [
    "print(\"Bienvenido! Vamos a calcular el area de un trapecio\")\n",
    "a = float(input(\"Introduce la longitud del lado superior en metros: \"))\n",
    "b = float(input(\"Ahora la longitud del lado inferior en metros: \"))\n",
    "h = float(input(\"Ahora la altura en metros: \"))\n",
    "\n",
    "A = h*((a + b)/2)\n",
    "\n",
    "print(f\"El area del trapecio es: {A} metros.\")"
   ]
  },
  {
   "cell_type": "markdown",
   "metadata": {},
   "source": [
    "10. **Cálculo del área y volumen de una esfera** \n",
    "\n",
    "\n",
    "El volumen ($V$) y el área ($A$) para una esfera común siguen las siguientes fórmulas:\n",
    "\n",
    "$$ A = 4 \\ pi r ^ 2 $$\n",
    "$$ V = \\frac{4}{3}\\ pi r ^ 3 $$\n",
    "\n",
    "Escriba un programa de Python que solicite al usuario el diámetro deseado para una esfera e imprima el siguiente texto:\n",
    "\n",
    "```El área de tu esfera es [valor del área], con un volumen igual a [volumen] .```\n",
    "\n",
    "Para simplificar, puede usar 3.14 como aproximación para $ \\ pi $."
   ]
  },
  {
   "cell_type": "code",
   "execution_count": 9,
   "metadata": {},
   "outputs": [],
   "source": [
    "import math"
   ]
  },
  {
   "cell_type": "code",
   "execution_count": 10,
   "metadata": {},
   "outputs": [
    {
     "name": "stdout",
     "output_type": "stream",
     "text": [
      "Bienvenido a mi programa de python!!\n",
      "Introduce un diametro deseado: 5\n",
      "El area de tu esfera es 78.53981633974483, con un volumen igual a 65.44984694978736\n"
     ]
    }
   ],
   "source": [
    "print(\"Bienvenido a mi programa de python!!\")\n",
    "d = float(input(\"Introduce un diametro deseado: \"))\n",
    "A = 4*math.pi*((d/2)**2)\n",
    "V = (4/3)*math.pi*((d/2)**3)\n",
    "print(f\"El area de tu esfera es {A}, con un volumen igual a {V}\")\n"
   ]
  }
 ],
 "metadata": {
  "kernelspec": {
   "display_name": "Python 3",
   "language": "python",
   "name": "python3"
  },
  "language_info": {
   "codemirror_mode": {
    "name": "ipython",
    "version": 3
   },
   "file_extension": ".py",
   "mimetype": "text/x-python",
   "name": "python",
   "nbconvert_exporter": "python",
   "pygments_lexer": "ipython3",
   "version": "3.7.3"
  },
  "name": "Session 4 - Data Types and Variables (2)",
  "notebookId": 2116928048375375
 },
 "nbformat": 4,
 "nbformat_minor": 1
}
