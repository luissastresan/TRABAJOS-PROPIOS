{
 "cells": [
  {
   "cell_type": "markdown",
   "metadata": {},
   "source": [
    "#  Workbook – Lists"
   ]
  },
  {
   "cell_type": "markdown",
   "metadata": {},
   "source": [
    "In this Jupyter notebook you will find a series of exercises to solve. Please write the solution code in the cells specified for that purpose. In some exercises you may find some of the information needed in the code. Please remember to run these cells (Shift+Enter) when you proceed to solve the exercise."
   ]
  },
  {
   "cell_type": "markdown",
   "metadata": {},
   "source": [
    "1. **Can I find the meaning of life, the universe, and everything in this list?**\n",
    "\n",
    "Write a program that prints out ```True``` if the input list co ntains a 42, ```False``` otherwise."
   ]
  },
  {
   "cell_type": "code",
   "execution_count": 7,
   "metadata": {},
   "outputs": [
    {
     "name": "stdout",
     "output_type": "stream",
     "text": [
      "False\n"
     ]
    }
   ],
   "source": [
    "lista = [1, 2, 3, 4, 5, - 34, \"Hola\", 3.4]\n",
    "if 42 in lista:\n",
    "    print(True)\n",
    "else:\n",
    "    print(False)"
   ]
  },
  {
   "cell_type": "markdown",
   "metadata": {},
   "source": [
    "2. **List by the end**\n",
    "\n",
    "Write a program that takes this example list and prints out the last two elements\n",
    "\n",
    "```python\n",
    "Write a program that takes this example list and prints out the last two elements"
   ]
  },
  {
   "cell_type": "code",
   "execution_count": 6,
   "metadata": {},
   "outputs": [
    {
     "data": {
      "text/plain": [
       "['Hola', 3.4]"
      ]
     },
     "execution_count": 6,
     "metadata": {},
     "output_type": "execute_result"
    }
   ],
   "source": [
    "lista = [1, 2, 3, 4, 5, - 34, \"Hola\", 3.4]\n",
    "lista[6:]"
   ]
  },
  {
   "cell_type": "markdown",
   "metadata": {},
   "source": [
    "3. **Is this a vowel?**\n",
    "\n",
    "Write a program that asks the user to input one letter and then uses this list in order to print ```True``` if the users' letter is a vowel, and ```False``` if it's not.\n",
    "\n",
    "\n",
    "```python\n",
    "vowels = ['a', 'e', 'i', 'o', 'u']\n",
    "```"
   ]
  },
  {
   "cell_type": "code",
   "execution_count": 5,
   "metadata": {},
   "outputs": [
    {
     "name": "stdout",
     "output_type": "stream",
     "text": [
      "Introduce una letra: f\n",
      "La letra no es una vocal\n"
     ]
    }
   ],
   "source": [
    "vowels = ['a', 'e', 'i', 'o', 'u']\n",
    "letter = input(\"Introduce una letra: \")\n",
    "if letter in vowels:\n",
    "    print(\"La letra introducida es una vocal\")\n",
    "else:\n",
    "    print(\"La letra no es una vocal\")"
   ]
  },
  {
   "cell_type": "markdown",
   "metadata": {
    "collapsed": true
   },
   "source": [
    "4. **The even list**\n",
    "\n",
    "Write a program that takes this example list and prints out only the elements in an even position.\n",
    "\n",
    "```python\n",
    "subject_list = ['a', 'b', 'c', 'd', 'e']\n",
    "l = L[1::2]\n",
    "```"
   ]
  },
  {
   "cell_type": "code",
   "execution_count": 1,
   "metadata": {},
   "outputs": [
    {
     "data": {
      "text/plain": [
       "['b', 'd']"
      ]
     },
     "execution_count": 1,
     "metadata": {},
     "output_type": "execute_result"
    }
   ],
   "source": [
    "subject_list = ['a', 'b', 'c', 'd', 'e']\n",
    "subject_list[1::2]"
   ]
  },
  {
   "cell_type": "markdown",
   "metadata": {},
   "source": [
    "5. **Isn't this odd?**\n",
    "\n",
    "Write a program that, from these input numbers, generates a list of booleans. Each boolean will be ```True``` if the corresponding input number is even, and ```False``` if it's odd.\n",
    "\n",
    "\n",
    "```python\n",
    "input_numbers = range(1, 21)\n",
    "```"
   ]
  },
  {
   "cell_type": "code",
   "execution_count": 4,
   "metadata": {},
   "outputs": [
    {
     "name": "stdout",
     "output_type": "stream",
     "text": [
      "False\n",
      "True\n",
      "False\n",
      "True\n",
      "False\n",
      "True\n",
      "False\n",
      "True\n",
      "False\n",
      "True\n",
      "False\n",
      "True\n",
      "False\n",
      "True\n",
      "False\n",
      "True\n",
      "False\n",
      "True\n",
      "False\n",
      "True\n"
     ]
    }
   ],
   "source": [
    "for i in range(1, 21):\n",
    "    if i % 2 == 0:\n",
    "        print(True)\n",
    "    else:\n",
    "        print(False)"
   ]
  },
  {
   "cell_type": "markdown",
   "metadata": {},
   "source": [
    "6. **The even integers**\n",
    "\n",
    "Write a program that prints out the number of even integers in this example list:\n",
    "\n",
    "```python\n",
    "subject_list = [5, 3, 4, 8, 9, 11, 12, 15]\n",
    "```"
   ]
  },
  {
   "cell_type": "code",
   "execution_count": 1,
   "metadata": {},
   "outputs": [
    {
     "name": "stdout",
     "output_type": "stream",
     "text": [
      "4\n",
      "8\n",
      "12\n"
     ]
    }
   ],
   "source": [
    "subject_list = [5, 3, 4, 8, 9, 11, 12, 15]\n",
    "for i in subject_list:\n",
    "    if i % 2 == 0:\n",
    "        print(i)\n",
    "    else:\n",
    "        pass"
   ]
  },
  {
   "cell_type": "markdown",
   "metadata": {},
   "source": [
    "7. **Testing for primality**\n",
    "\n",
    "Write a program that prints out whether a given number `n` is prime. A number is prime if it's divisible only by itself and one. One is not a prime number.\n",
    "\n",
    "In other words, we can consider all the possible divisors of `n` between 2 and n - 1. If one of them is a divisor, then n is not prime."
   ]
  },
  {
   "cell_type": "code",
   "execution_count": 3,
   "metadata": {},
   "outputs": [
    {
     "name": "stdout",
     "output_type": "stream",
     "text": [
      "3 es primo\n"
     ]
    }
   ],
   "source": [
    "def primo(numero):\n",
    "    for i in range(2, numero):\n",
    "        if numero % i == 0:\n",
    "            print(numero, \"no es primo\")\n",
    "        else:\n",
    "            print(numero, \"es primo\")\n",
    "\n",
    "primo(3)"
   ]
  },
  {
   "cell_type": "markdown",
   "metadata": {},
   "source": [
    "8. **Listing primes**\n",
    "\n",
    "Reuse the previous code so that your program now generates a list of booleans of length 50. That list will contain a boolean for every number between 1 and 50 saying whether it is prime or not."
   ]
  },
  {
   "cell_type": "code",
   "execution_count": 6,
   "metadata": {},
   "outputs": [
    {
     "name": "stdout",
     "output_type": "stream",
     "text": [
      "False\n",
      "False\n",
      "True\n",
      "True\n",
      "True\n",
      "True\n",
      "True\n",
      "True\n",
      "True\n",
      "True\n",
      "True\n",
      "True\n",
      "True\n",
      "True\n",
      "True\n",
      "True\n",
      "False\n",
      "True\n",
      "True\n",
      "True\n",
      "True\n",
      "True\n",
      "True\n",
      "True\n",
      "True\n",
      "True\n",
      "True\n",
      "True\n",
      "True\n",
      "True\n",
      "True\n",
      "True\n",
      "True\n",
      "False\n",
      "True\n",
      "True\n",
      "True\n",
      "True\n",
      "True\n",
      "True\n",
      "True\n",
      "True\n",
      "True\n",
      "True\n",
      "True\n",
      "True\n",
      "True\n",
      "True\n",
      "True\n",
      "True\n"
     ]
    }
   ],
   "source": [
    "for i in range(1, 51):\n",
    "    if primo % i == 0:\n",
    "        print(False)\n",
    "    else:\n",
    "        print(True)"
   ]
  }
 ],
 "metadata": {
  "kernelspec": {
   "display_name": "Python 3",
   "language": "python",
   "name": "python3"
  },
  "language_info": {
   "codemirror_mode": {
    "name": "ipython",
    "version": 3
   },
   "file_extension": ".py",
   "mimetype": "text/x-python",
   "name": "python",
   "nbconvert_exporter": "python",
   "pygments_lexer": "ipython3",
   "version": "3.7.3"
  },
  "name": "Session 10 - Lists (1) (1)",
  "notebookId": 1649927884251206
 },
 "nbformat": 4,
 "nbformat_minor": 1
}
