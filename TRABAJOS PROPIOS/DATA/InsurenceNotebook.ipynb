{
 "cells": [
  {
   "cell_type": "markdown",
   "metadata": {},
   "source": [
    "INTRODUCCIÓN"
   ]
  },
  {
   "cell_type": "code",
   "execution_count": 1,
   "metadata": {},
   "outputs": [],
   "source": [
    "# Este comando ayuda a que los gráficos salgan alineados\n",
    "%matplotlib inline"
   ]
  },
  {
   "cell_type": "code",
   "execution_count": 2,
   "metadata": {},
   "outputs": [],
   "source": [
    "# Cargamos las librerias que necesitamos para nuestro análisis\n",
    "import numpy as np\n",
    "import pandas as pd\n",
    "import matplotlib.pyplot as plt\n",
    "import seaborn as sns"
   ]
  },
  {
   "cell_type": "code",
   "execution_count": 3,
   "metadata": {},
   "outputs": [
    {
     "data": {
      "text/html": [
       "<div>\n",
       "<style scoped>\n",
       "    .dataframe tbody tr th:only-of-type {\n",
       "        vertical-align: middle;\n",
       "    }\n",
       "\n",
       "    .dataframe tbody tr th {\n",
       "        vertical-align: top;\n",
       "    }\n",
       "\n",
       "    .dataframe thead th {\n",
       "        text-align: right;\n",
       "    }\n",
       "</style>\n",
       "<table border=\"1\" class=\"dataframe\">\n",
       "  <thead>\n",
       "    <tr style=\"text-align: right;\">\n",
       "      <th></th>\n",
       "      <th>age</th>\n",
       "      <th>sex</th>\n",
       "      <th>bmi</th>\n",
       "      <th>children</th>\n",
       "      <th>smoker</th>\n",
       "      <th>region</th>\n",
       "      <th>charges</th>\n",
       "    </tr>\n",
       "  </thead>\n",
       "  <tbody>\n",
       "    <tr>\n",
       "      <th>0</th>\n",
       "      <td>19</td>\n",
       "      <td>0</td>\n",
       "      <td>27.900</td>\n",
       "      <td>0</td>\n",
       "      <td>1</td>\n",
       "      <td>3</td>\n",
       "      <td>16884.92400</td>\n",
       "    </tr>\n",
       "    <tr>\n",
       "      <th>1</th>\n",
       "      <td>18</td>\n",
       "      <td>1</td>\n",
       "      <td>33.770</td>\n",
       "      <td>1</td>\n",
       "      <td>0</td>\n",
       "      <td>2</td>\n",
       "      <td>1725.55230</td>\n",
       "    </tr>\n",
       "    <tr>\n",
       "      <th>2</th>\n",
       "      <td>28</td>\n",
       "      <td>1</td>\n",
       "      <td>33.000</td>\n",
       "      <td>3</td>\n",
       "      <td>0</td>\n",
       "      <td>2</td>\n",
       "      <td>4449.46200</td>\n",
       "    </tr>\n",
       "    <tr>\n",
       "      <th>3</th>\n",
       "      <td>33</td>\n",
       "      <td>1</td>\n",
       "      <td>22.705</td>\n",
       "      <td>0</td>\n",
       "      <td>0</td>\n",
       "      <td>1</td>\n",
       "      <td>21984.47061</td>\n",
       "    </tr>\n",
       "    <tr>\n",
       "      <th>4</th>\n",
       "      <td>32</td>\n",
       "      <td>1</td>\n",
       "      <td>28.880</td>\n",
       "      <td>0</td>\n",
       "      <td>0</td>\n",
       "      <td>1</td>\n",
       "      <td>3866.85520</td>\n",
       "    </tr>\n",
       "    <tr>\n",
       "      <th>5</th>\n",
       "      <td>31</td>\n",
       "      <td>0</td>\n",
       "      <td>25.740</td>\n",
       "      <td>0</td>\n",
       "      <td>0</td>\n",
       "      <td>2</td>\n",
       "      <td>3756.62160</td>\n",
       "    </tr>\n",
       "    <tr>\n",
       "      <th>6</th>\n",
       "      <td>46</td>\n",
       "      <td>0</td>\n",
       "      <td>33.440</td>\n",
       "      <td>1</td>\n",
       "      <td>0</td>\n",
       "      <td>2</td>\n",
       "      <td>8240.58960</td>\n",
       "    </tr>\n",
       "    <tr>\n",
       "      <th>7</th>\n",
       "      <td>37</td>\n",
       "      <td>0</td>\n",
       "      <td>27.740</td>\n",
       "      <td>3</td>\n",
       "      <td>0</td>\n",
       "      <td>1</td>\n",
       "      <td>7281.50560</td>\n",
       "    </tr>\n",
       "    <tr>\n",
       "      <th>8</th>\n",
       "      <td>37</td>\n",
       "      <td>1</td>\n",
       "      <td>29.830</td>\n",
       "      <td>2</td>\n",
       "      <td>0</td>\n",
       "      <td>0</td>\n",
       "      <td>6406.41070</td>\n",
       "    </tr>\n",
       "    <tr>\n",
       "      <th>9</th>\n",
       "      <td>60</td>\n",
       "      <td>0</td>\n",
       "      <td>25.840</td>\n",
       "      <td>0</td>\n",
       "      <td>0</td>\n",
       "      <td>1</td>\n",
       "      <td>28923.13692</td>\n",
       "    </tr>\n",
       "    <tr>\n",
       "      <th>10</th>\n",
       "      <td>25</td>\n",
       "      <td>1</td>\n",
       "      <td>26.220</td>\n",
       "      <td>0</td>\n",
       "      <td>0</td>\n",
       "      <td>0</td>\n",
       "      <td>2721.32080</td>\n",
       "    </tr>\n",
       "    <tr>\n",
       "      <th>11</th>\n",
       "      <td>62</td>\n",
       "      <td>0</td>\n",
       "      <td>26.290</td>\n",
       "      <td>0</td>\n",
       "      <td>1</td>\n",
       "      <td>2</td>\n",
       "      <td>27808.72510</td>\n",
       "    </tr>\n",
       "    <tr>\n",
       "      <th>12</th>\n",
       "      <td>23</td>\n",
       "      <td>1</td>\n",
       "      <td>34.400</td>\n",
       "      <td>0</td>\n",
       "      <td>0</td>\n",
       "      <td>3</td>\n",
       "      <td>1826.84300</td>\n",
       "    </tr>\n",
       "    <tr>\n",
       "      <th>13</th>\n",
       "      <td>56</td>\n",
       "      <td>0</td>\n",
       "      <td>39.820</td>\n",
       "      <td>0</td>\n",
       "      <td>0</td>\n",
       "      <td>2</td>\n",
       "      <td>11090.71780</td>\n",
       "    </tr>\n",
       "    <tr>\n",
       "      <th>14</th>\n",
       "      <td>27</td>\n",
       "      <td>1</td>\n",
       "      <td>42.130</td>\n",
       "      <td>0</td>\n",
       "      <td>1</td>\n",
       "      <td>2</td>\n",
       "      <td>39611.75770</td>\n",
       "    </tr>\n",
       "    <tr>\n",
       "      <th>15</th>\n",
       "      <td>19</td>\n",
       "      <td>1</td>\n",
       "      <td>24.600</td>\n",
       "      <td>1</td>\n",
       "      <td>0</td>\n",
       "      <td>3</td>\n",
       "      <td>1837.23700</td>\n",
       "    </tr>\n",
       "    <tr>\n",
       "      <th>16</th>\n",
       "      <td>52</td>\n",
       "      <td>0</td>\n",
       "      <td>30.780</td>\n",
       "      <td>1</td>\n",
       "      <td>0</td>\n",
       "      <td>0</td>\n",
       "      <td>10797.33620</td>\n",
       "    </tr>\n",
       "    <tr>\n",
       "      <th>17</th>\n",
       "      <td>23</td>\n",
       "      <td>1</td>\n",
       "      <td>23.845</td>\n",
       "      <td>0</td>\n",
       "      <td>0</td>\n",
       "      <td>0</td>\n",
       "      <td>2395.17155</td>\n",
       "    </tr>\n",
       "    <tr>\n",
       "      <th>18</th>\n",
       "      <td>56</td>\n",
       "      <td>1</td>\n",
       "      <td>40.300</td>\n",
       "      <td>0</td>\n",
       "      <td>0</td>\n",
       "      <td>3</td>\n",
       "      <td>10602.38500</td>\n",
       "    </tr>\n",
       "    <tr>\n",
       "      <th>19</th>\n",
       "      <td>30</td>\n",
       "      <td>1</td>\n",
       "      <td>35.300</td>\n",
       "      <td>0</td>\n",
       "      <td>1</td>\n",
       "      <td>3</td>\n",
       "      <td>36837.46700</td>\n",
       "    </tr>\n",
       "    <tr>\n",
       "      <th>20</th>\n",
       "      <td>60</td>\n",
       "      <td>0</td>\n",
       "      <td>36.005</td>\n",
       "      <td>0</td>\n",
       "      <td>0</td>\n",
       "      <td>0</td>\n",
       "      <td>13228.84695</td>\n",
       "    </tr>\n",
       "    <tr>\n",
       "      <th>21</th>\n",
       "      <td>30</td>\n",
       "      <td>0</td>\n",
       "      <td>32.400</td>\n",
       "      <td>1</td>\n",
       "      <td>0</td>\n",
       "      <td>3</td>\n",
       "      <td>4149.73600</td>\n",
       "    </tr>\n",
       "    <tr>\n",
       "      <th>22</th>\n",
       "      <td>18</td>\n",
       "      <td>1</td>\n",
       "      <td>34.100</td>\n",
       "      <td>0</td>\n",
       "      <td>0</td>\n",
       "      <td>2</td>\n",
       "      <td>1137.01100</td>\n",
       "    </tr>\n",
       "    <tr>\n",
       "      <th>23</th>\n",
       "      <td>34</td>\n",
       "      <td>0</td>\n",
       "      <td>31.920</td>\n",
       "      <td>1</td>\n",
       "      <td>1</td>\n",
       "      <td>0</td>\n",
       "      <td>37701.87680</td>\n",
       "    </tr>\n",
       "    <tr>\n",
       "      <th>24</th>\n",
       "      <td>37</td>\n",
       "      <td>1</td>\n",
       "      <td>28.025</td>\n",
       "      <td>2</td>\n",
       "      <td>0</td>\n",
       "      <td>1</td>\n",
       "      <td>6203.90175</td>\n",
       "    </tr>\n",
       "    <tr>\n",
       "      <th>25</th>\n",
       "      <td>59</td>\n",
       "      <td>0</td>\n",
       "      <td>27.720</td>\n",
       "      <td>3</td>\n",
       "      <td>0</td>\n",
       "      <td>2</td>\n",
       "      <td>14001.13380</td>\n",
       "    </tr>\n",
       "    <tr>\n",
       "      <th>26</th>\n",
       "      <td>63</td>\n",
       "      <td>0</td>\n",
       "      <td>23.085</td>\n",
       "      <td>0</td>\n",
       "      <td>0</td>\n",
       "      <td>0</td>\n",
       "      <td>14451.83515</td>\n",
       "    </tr>\n",
       "    <tr>\n",
       "      <th>27</th>\n",
       "      <td>55</td>\n",
       "      <td>0</td>\n",
       "      <td>32.775</td>\n",
       "      <td>2</td>\n",
       "      <td>0</td>\n",
       "      <td>1</td>\n",
       "      <td>12268.63225</td>\n",
       "    </tr>\n",
       "    <tr>\n",
       "      <th>28</th>\n",
       "      <td>23</td>\n",
       "      <td>1</td>\n",
       "      <td>17.385</td>\n",
       "      <td>1</td>\n",
       "      <td>0</td>\n",
       "      <td>1</td>\n",
       "      <td>2775.19215</td>\n",
       "    </tr>\n",
       "    <tr>\n",
       "      <th>29</th>\n",
       "      <td>31</td>\n",
       "      <td>1</td>\n",
       "      <td>36.300</td>\n",
       "      <td>2</td>\n",
       "      <td>1</td>\n",
       "      <td>3</td>\n",
       "      <td>38711.00000</td>\n",
       "    </tr>\n",
       "    <tr>\n",
       "      <th>...</th>\n",
       "      <td>...</td>\n",
       "      <td>...</td>\n",
       "      <td>...</td>\n",
       "      <td>...</td>\n",
       "      <td>...</td>\n",
       "      <td>...</td>\n",
       "      <td>...</td>\n",
       "    </tr>\n",
       "    <tr>\n",
       "      <th>318</th>\n",
       "      <td>44</td>\n",
       "      <td>0</td>\n",
       "      <td>27.645</td>\n",
       "      <td>0</td>\n",
       "      <td>0</td>\n",
       "      <td>1</td>\n",
       "      <td>7421.19455</td>\n",
       "    </tr>\n",
       "    <tr>\n",
       "      <th>319</th>\n",
       "      <td>32</td>\n",
       "      <td>1</td>\n",
       "      <td>37.335</td>\n",
       "      <td>1</td>\n",
       "      <td>0</td>\n",
       "      <td>0</td>\n",
       "      <td>4667.60765</td>\n",
       "    </tr>\n",
       "    <tr>\n",
       "      <th>320</th>\n",
       "      <td>34</td>\n",
       "      <td>1</td>\n",
       "      <td>25.270</td>\n",
       "      <td>1</td>\n",
       "      <td>0</td>\n",
       "      <td>1</td>\n",
       "      <td>4894.75330</td>\n",
       "    </tr>\n",
       "    <tr>\n",
       "      <th>321</th>\n",
       "      <td>26</td>\n",
       "      <td>0</td>\n",
       "      <td>29.640</td>\n",
       "      <td>4</td>\n",
       "      <td>0</td>\n",
       "      <td>0</td>\n",
       "      <td>24671.66334</td>\n",
       "    </tr>\n",
       "    <tr>\n",
       "      <th>322</th>\n",
       "      <td>34</td>\n",
       "      <td>1</td>\n",
       "      <td>30.800</td>\n",
       "      <td>0</td>\n",
       "      <td>1</td>\n",
       "      <td>3</td>\n",
       "      <td>35491.64000</td>\n",
       "    </tr>\n",
       "    <tr>\n",
       "      <th>323</th>\n",
       "      <td>57</td>\n",
       "      <td>1</td>\n",
       "      <td>40.945</td>\n",
       "      <td>0</td>\n",
       "      <td>0</td>\n",
       "      <td>0</td>\n",
       "      <td>11566.30055</td>\n",
       "    </tr>\n",
       "    <tr>\n",
       "      <th>324</th>\n",
       "      <td>29</td>\n",
       "      <td>1</td>\n",
       "      <td>27.200</td>\n",
       "      <td>0</td>\n",
       "      <td>0</td>\n",
       "      <td>3</td>\n",
       "      <td>2866.09100</td>\n",
       "    </tr>\n",
       "    <tr>\n",
       "      <th>325</th>\n",
       "      <td>40</td>\n",
       "      <td>1</td>\n",
       "      <td>34.105</td>\n",
       "      <td>1</td>\n",
       "      <td>0</td>\n",
       "      <td>0</td>\n",
       "      <td>6600.20595</td>\n",
       "    </tr>\n",
       "    <tr>\n",
       "      <th>326</th>\n",
       "      <td>27</td>\n",
       "      <td>0</td>\n",
       "      <td>23.210</td>\n",
       "      <td>1</td>\n",
       "      <td>0</td>\n",
       "      <td>2</td>\n",
       "      <td>3561.88890</td>\n",
       "    </tr>\n",
       "    <tr>\n",
       "      <th>327</th>\n",
       "      <td>45</td>\n",
       "      <td>1</td>\n",
       "      <td>36.480</td>\n",
       "      <td>2</td>\n",
       "      <td>1</td>\n",
       "      <td>1</td>\n",
       "      <td>42760.50220</td>\n",
       "    </tr>\n",
       "    <tr>\n",
       "      <th>328</th>\n",
       "      <td>64</td>\n",
       "      <td>0</td>\n",
       "      <td>33.800</td>\n",
       "      <td>1</td>\n",
       "      <td>1</td>\n",
       "      <td>3</td>\n",
       "      <td>47928.03000</td>\n",
       "    </tr>\n",
       "    <tr>\n",
       "      <th>329</th>\n",
       "      <td>52</td>\n",
       "      <td>1</td>\n",
       "      <td>36.700</td>\n",
       "      <td>0</td>\n",
       "      <td>0</td>\n",
       "      <td>3</td>\n",
       "      <td>9144.56500</td>\n",
       "    </tr>\n",
       "    <tr>\n",
       "      <th>330</th>\n",
       "      <td>61</td>\n",
       "      <td>0</td>\n",
       "      <td>36.385</td>\n",
       "      <td>1</td>\n",
       "      <td>1</td>\n",
       "      <td>0</td>\n",
       "      <td>48517.56315</td>\n",
       "    </tr>\n",
       "    <tr>\n",
       "      <th>331</th>\n",
       "      <td>52</td>\n",
       "      <td>1</td>\n",
       "      <td>27.360</td>\n",
       "      <td>0</td>\n",
       "      <td>1</td>\n",
       "      <td>1</td>\n",
       "      <td>24393.62240</td>\n",
       "    </tr>\n",
       "    <tr>\n",
       "      <th>332</th>\n",
       "      <td>61</td>\n",
       "      <td>0</td>\n",
       "      <td>31.160</td>\n",
       "      <td>0</td>\n",
       "      <td>0</td>\n",
       "      <td>1</td>\n",
       "      <td>13429.03540</td>\n",
       "    </tr>\n",
       "    <tr>\n",
       "      <th>333</th>\n",
       "      <td>56</td>\n",
       "      <td>0</td>\n",
       "      <td>28.785</td>\n",
       "      <td>0</td>\n",
       "      <td>0</td>\n",
       "      <td>0</td>\n",
       "      <td>11658.37915</td>\n",
       "    </tr>\n",
       "    <tr>\n",
       "      <th>334</th>\n",
       "      <td>43</td>\n",
       "      <td>0</td>\n",
       "      <td>35.720</td>\n",
       "      <td>2</td>\n",
       "      <td>0</td>\n",
       "      <td>0</td>\n",
       "      <td>19144.57652</td>\n",
       "    </tr>\n",
       "    <tr>\n",
       "      <th>335</th>\n",
       "      <td>64</td>\n",
       "      <td>1</td>\n",
       "      <td>34.500</td>\n",
       "      <td>0</td>\n",
       "      <td>0</td>\n",
       "      <td>3</td>\n",
       "      <td>13822.80300</td>\n",
       "    </tr>\n",
       "    <tr>\n",
       "      <th>336</th>\n",
       "      <td>60</td>\n",
       "      <td>1</td>\n",
       "      <td>25.740</td>\n",
       "      <td>0</td>\n",
       "      <td>0</td>\n",
       "      <td>2</td>\n",
       "      <td>12142.57860</td>\n",
       "    </tr>\n",
       "    <tr>\n",
       "      <th>337</th>\n",
       "      <td>62</td>\n",
       "      <td>1</td>\n",
       "      <td>27.550</td>\n",
       "      <td>1</td>\n",
       "      <td>0</td>\n",
       "      <td>1</td>\n",
       "      <td>13937.66650</td>\n",
       "    </tr>\n",
       "    <tr>\n",
       "      <th>338</th>\n",
       "      <td>50</td>\n",
       "      <td>1</td>\n",
       "      <td>32.300</td>\n",
       "      <td>1</td>\n",
       "      <td>1</td>\n",
       "      <td>0</td>\n",
       "      <td>41919.09700</td>\n",
       "    </tr>\n",
       "    <tr>\n",
       "      <th>339</th>\n",
       "      <td>46</td>\n",
       "      <td>0</td>\n",
       "      <td>27.720</td>\n",
       "      <td>1</td>\n",
       "      <td>0</td>\n",
       "      <td>2</td>\n",
       "      <td>8232.63880</td>\n",
       "    </tr>\n",
       "    <tr>\n",
       "      <th>340</th>\n",
       "      <td>24</td>\n",
       "      <td>0</td>\n",
       "      <td>27.600</td>\n",
       "      <td>0</td>\n",
       "      <td>0</td>\n",
       "      <td>3</td>\n",
       "      <td>18955.22017</td>\n",
       "    </tr>\n",
       "    <tr>\n",
       "      <th>341</th>\n",
       "      <td>62</td>\n",
       "      <td>1</td>\n",
       "      <td>30.020</td>\n",
       "      <td>0</td>\n",
       "      <td>0</td>\n",
       "      <td>1</td>\n",
       "      <td>13352.09980</td>\n",
       "    </tr>\n",
       "    <tr>\n",
       "      <th>342</th>\n",
       "      <td>60</td>\n",
       "      <td>0</td>\n",
       "      <td>27.550</td>\n",
       "      <td>0</td>\n",
       "      <td>0</td>\n",
       "      <td>0</td>\n",
       "      <td>13217.09450</td>\n",
       "    </tr>\n",
       "    <tr>\n",
       "      <th>343</th>\n",
       "      <td>63</td>\n",
       "      <td>1</td>\n",
       "      <td>36.765</td>\n",
       "      <td>0</td>\n",
       "      <td>0</td>\n",
       "      <td>0</td>\n",
       "      <td>13981.85035</td>\n",
       "    </tr>\n",
       "    <tr>\n",
       "      <th>344</th>\n",
       "      <td>49</td>\n",
       "      <td>0</td>\n",
       "      <td>41.470</td>\n",
       "      <td>4</td>\n",
       "      <td>0</td>\n",
       "      <td>2</td>\n",
       "      <td>10977.20630</td>\n",
       "    </tr>\n",
       "    <tr>\n",
       "      <th>345</th>\n",
       "      <td>34</td>\n",
       "      <td>0</td>\n",
       "      <td>29.260</td>\n",
       "      <td>3</td>\n",
       "      <td>0</td>\n",
       "      <td>2</td>\n",
       "      <td>6184.29940</td>\n",
       "    </tr>\n",
       "    <tr>\n",
       "      <th>346</th>\n",
       "      <td>33</td>\n",
       "      <td>1</td>\n",
       "      <td>35.750</td>\n",
       "      <td>2</td>\n",
       "      <td>0</td>\n",
       "      <td>2</td>\n",
       "      <td>4889.99950</td>\n",
       "    </tr>\n",
       "    <tr>\n",
       "      <th>347</th>\n",
       "      <td>46</td>\n",
       "      <td>1</td>\n",
       "      <td>33.345</td>\n",
       "      <td>1</td>\n",
       "      <td>0</td>\n",
       "      <td>0</td>\n",
       "      <td>8334.45755</td>\n",
       "    </tr>\n",
       "  </tbody>\n",
       "</table>\n",
       "<p>348 rows × 7 columns</p>\n",
       "</div>"
      ],
      "text/plain": [
       "     age  sex     bmi  children  smoker  region      charges\n",
       "0     19    0  27.900         0       1       3  16884.92400\n",
       "1     18    1  33.770         1       0       2   1725.55230\n",
       "2     28    1  33.000         3       0       2   4449.46200\n",
       "3     33    1  22.705         0       0       1  21984.47061\n",
       "4     32    1  28.880         0       0       1   3866.85520\n",
       "5     31    0  25.740         0       0       2   3756.62160\n",
       "6     46    0  33.440         1       0       2   8240.58960\n",
       "7     37    0  27.740         3       0       1   7281.50560\n",
       "8     37    1  29.830         2       0       0   6406.41070\n",
       "9     60    0  25.840         0       0       1  28923.13692\n",
       "10    25    1  26.220         0       0       0   2721.32080\n",
       "11    62    0  26.290         0       1       2  27808.72510\n",
       "12    23    1  34.400         0       0       3   1826.84300\n",
       "13    56    0  39.820         0       0       2  11090.71780\n",
       "14    27    1  42.130         0       1       2  39611.75770\n",
       "15    19    1  24.600         1       0       3   1837.23700\n",
       "16    52    0  30.780         1       0       0  10797.33620\n",
       "17    23    1  23.845         0       0       0   2395.17155\n",
       "18    56    1  40.300         0       0       3  10602.38500\n",
       "19    30    1  35.300         0       1       3  36837.46700\n",
       "20    60    0  36.005         0       0       0  13228.84695\n",
       "21    30    0  32.400         1       0       3   4149.73600\n",
       "22    18    1  34.100         0       0       2   1137.01100\n",
       "23    34    0  31.920         1       1       0  37701.87680\n",
       "24    37    1  28.025         2       0       1   6203.90175\n",
       "25    59    0  27.720         3       0       2  14001.13380\n",
       "26    63    0  23.085         0       0       0  14451.83515\n",
       "27    55    0  32.775         2       0       1  12268.63225\n",
       "28    23    1  17.385         1       0       1   2775.19215\n",
       "29    31    1  36.300         2       1       3  38711.00000\n",
       "..   ...  ...     ...       ...     ...     ...          ...\n",
       "318   44    0  27.645         0       0       1   7421.19455\n",
       "319   32    1  37.335         1       0       0   4667.60765\n",
       "320   34    1  25.270         1       0       1   4894.75330\n",
       "321   26    0  29.640         4       0       0  24671.66334\n",
       "322   34    1  30.800         0       1       3  35491.64000\n",
       "323   57    1  40.945         0       0       0  11566.30055\n",
       "324   29    1  27.200         0       0       3   2866.09100\n",
       "325   40    1  34.105         1       0       0   6600.20595\n",
       "326   27    0  23.210         1       0       2   3561.88890\n",
       "327   45    1  36.480         2       1       1  42760.50220\n",
       "328   64    0  33.800         1       1       3  47928.03000\n",
       "329   52    1  36.700         0       0       3   9144.56500\n",
       "330   61    0  36.385         1       1       0  48517.56315\n",
       "331   52    1  27.360         0       1       1  24393.62240\n",
       "332   61    0  31.160         0       0       1  13429.03540\n",
       "333   56    0  28.785         0       0       0  11658.37915\n",
       "334   43    0  35.720         2       0       0  19144.57652\n",
       "335   64    1  34.500         0       0       3  13822.80300\n",
       "336   60    1  25.740         0       0       2  12142.57860\n",
       "337   62    1  27.550         1       0       1  13937.66650\n",
       "338   50    1  32.300         1       1       0  41919.09700\n",
       "339   46    0  27.720         1       0       2   8232.63880\n",
       "340   24    0  27.600         0       0       3  18955.22017\n",
       "341   62    1  30.020         0       0       1  13352.09980\n",
       "342   60    0  27.550         0       0       0  13217.09450\n",
       "343   63    1  36.765         0       0       0  13981.85035\n",
       "344   49    0  41.470         4       0       2  10977.20630\n",
       "345   34    0  29.260         3       0       2   6184.29940\n",
       "346   33    1  35.750         2       0       2   4889.99950\n",
       "347   46    1  33.345         1       0       0   8334.45755\n",
       "\n",
       "[348 rows x 7 columns]"
      ]
     },
     "execution_count": 3,
     "metadata": {},
     "output_type": "execute_result"
    }
   ],
   "source": [
    "# Cargamos la base de datos\n",
    "data = pd.read_csv(\"insurance.csv\")\n",
    "data"
   ]
  },
  {
   "cell_type": "code",
   "execution_count": 8,
   "metadata": {},
   "outputs": [
    {
     "data": {
      "text/plain": [
       "(348, 7)"
      ]
     },
     "execution_count": 8,
     "metadata": {},
     "output_type": "execute_result"
    }
   ],
   "source": [
    "data.shape # Tenemos una base de datos con 348 observaciones y 7 variables"
   ]
  },
  {
   "cell_type": "code",
   "execution_count": 10,
   "metadata": {},
   "outputs": [
    {
     "data": {
      "text/plain": [
       "Index(['age', 'sex', 'bmi', 'children', 'smoker', 'region', 'charges'], dtype='object')"
      ]
     },
     "execution_count": 10,
     "metadata": {},
     "output_type": "execute_result"
    }
   ],
   "source": [
    "data.columns # El nombre de las variables"
   ]
  },
  {
   "cell_type": "code",
   "execution_count": 11,
   "metadata": {},
   "outputs": [
    {
     "data": {
      "text/html": [
       "<div>\n",
       "<style scoped>\n",
       "    .dataframe tbody tr th:only-of-type {\n",
       "        vertical-align: middle;\n",
       "    }\n",
       "\n",
       "    .dataframe tbody tr th {\n",
       "        vertical-align: top;\n",
       "    }\n",
       "\n",
       "    .dataframe thead th {\n",
       "        text-align: right;\n",
       "    }\n",
       "</style>\n",
       "<table border=\"1\" class=\"dataframe\">\n",
       "  <thead>\n",
       "    <tr style=\"text-align: right;\">\n",
       "      <th></th>\n",
       "      <th>age</th>\n",
       "      <th>sex</th>\n",
       "      <th>bmi</th>\n",
       "      <th>children</th>\n",
       "      <th>smoker</th>\n",
       "      <th>region</th>\n",
       "      <th>charges</th>\n",
       "    </tr>\n",
       "  </thead>\n",
       "  <tbody>\n",
       "    <tr>\n",
       "      <th>count</th>\n",
       "      <td>348.000000</td>\n",
       "      <td>348.000000</td>\n",
       "      <td>348.000000</td>\n",
       "      <td>348.000000</td>\n",
       "      <td>348.000000</td>\n",
       "      <td>348.000000</td>\n",
       "      <td>348.000000</td>\n",
       "    </tr>\n",
       "    <tr>\n",
       "      <th>mean</th>\n",
       "      <td>39.591954</td>\n",
       "      <td>0.508621</td>\n",
       "      <td>30.676552</td>\n",
       "      <td>1.091954</td>\n",
       "      <td>0.232759</td>\n",
       "      <td>1.497126</td>\n",
       "      <td>14016.426293</td>\n",
       "    </tr>\n",
       "    <tr>\n",
       "      <th>std</th>\n",
       "      <td>14.417015</td>\n",
       "      <td>0.500646</td>\n",
       "      <td>5.625850</td>\n",
       "      <td>1.192021</td>\n",
       "      <td>0.423198</td>\n",
       "      <td>1.104089</td>\n",
       "      <td>12638.887852</td>\n",
       "    </tr>\n",
       "    <tr>\n",
       "      <th>min</th>\n",
       "      <td>18.000000</td>\n",
       "      <td>0.000000</td>\n",
       "      <td>15.960000</td>\n",
       "      <td>0.000000</td>\n",
       "      <td>0.000000</td>\n",
       "      <td>0.000000</td>\n",
       "      <td>1137.011000</td>\n",
       "    </tr>\n",
       "    <tr>\n",
       "      <th>25%</th>\n",
       "      <td>27.000000</td>\n",
       "      <td>0.000000</td>\n",
       "      <td>26.782500</td>\n",
       "      <td>0.000000</td>\n",
       "      <td>0.000000</td>\n",
       "      <td>1.000000</td>\n",
       "      <td>4888.466125</td>\n",
       "    </tr>\n",
       "    <tr>\n",
       "      <th>50%</th>\n",
       "      <td>40.000000</td>\n",
       "      <td>1.000000</td>\n",
       "      <td>30.300000</td>\n",
       "      <td>1.000000</td>\n",
       "      <td>0.000000</td>\n",
       "      <td>2.000000</td>\n",
       "      <td>9719.305250</td>\n",
       "    </tr>\n",
       "    <tr>\n",
       "      <th>75%</th>\n",
       "      <td>53.000000</td>\n",
       "      <td>1.000000</td>\n",
       "      <td>34.777500</td>\n",
       "      <td>2.000000</td>\n",
       "      <td>0.000000</td>\n",
       "      <td>2.000000</td>\n",
       "      <td>19006.316150</td>\n",
       "    </tr>\n",
       "    <tr>\n",
       "      <th>max</th>\n",
       "      <td>64.000000</td>\n",
       "      <td>1.000000</td>\n",
       "      <td>49.060000</td>\n",
       "      <td>5.000000</td>\n",
       "      <td>1.000000</td>\n",
       "      <td>3.000000</td>\n",
       "      <td>51194.559140</td>\n",
       "    </tr>\n",
       "  </tbody>\n",
       "</table>\n",
       "</div>"
      ],
      "text/plain": [
       "              age         sex         bmi    children      smoker      region  \\\n",
       "count  348.000000  348.000000  348.000000  348.000000  348.000000  348.000000   \n",
       "mean    39.591954    0.508621   30.676552    1.091954    0.232759    1.497126   \n",
       "std     14.417015    0.500646    5.625850    1.192021    0.423198    1.104089   \n",
       "min     18.000000    0.000000   15.960000    0.000000    0.000000    0.000000   \n",
       "25%     27.000000    0.000000   26.782500    0.000000    0.000000    1.000000   \n",
       "50%     40.000000    1.000000   30.300000    1.000000    0.000000    2.000000   \n",
       "75%     53.000000    1.000000   34.777500    2.000000    0.000000    2.000000   \n",
       "max     64.000000    1.000000   49.060000    5.000000    1.000000    3.000000   \n",
       "\n",
       "            charges  \n",
       "count    348.000000  \n",
       "mean   14016.426293  \n",
       "std    12638.887852  \n",
       "min     1137.011000  \n",
       "25%     4888.466125  \n",
       "50%     9719.305250  \n",
       "75%    19006.316150  \n",
       "max    51194.559140  "
      ]
     },
     "execution_count": 11,
     "metadata": {},
     "output_type": "execute_result"
    }
   ],
   "source": [
    "data.describe() # Datos descriptivos de cada variable."
   ]
  },
  {
   "cell_type": "code",
   "execution_count": 15,
   "metadata": {},
   "outputs": [
    {
     "data": {
      "text/html": [
       "<div>\n",
       "<style scoped>\n",
       "    .dataframe tbody tr th:only-of-type {\n",
       "        vertical-align: middle;\n",
       "    }\n",
       "\n",
       "    .dataframe tbody tr th {\n",
       "        vertical-align: top;\n",
       "    }\n",
       "\n",
       "    .dataframe thead th {\n",
       "        text-align: right;\n",
       "    }\n",
       "</style>\n",
       "<table border=\"1\" class=\"dataframe\">\n",
       "  <thead>\n",
       "    <tr style=\"text-align: right;\">\n",
       "      <th></th>\n",
       "      <th>age</th>\n",
       "      <th>sex</th>\n",
       "      <th>bmi</th>\n",
       "      <th>children</th>\n",
       "      <th>smoker</th>\n",
       "      <th>region</th>\n",
       "      <th>charges</th>\n",
       "    </tr>\n",
       "  </thead>\n",
       "  <tbody>\n",
       "    <tr>\n",
       "      <th>0</th>\n",
       "      <td>19</td>\n",
       "      <td>0</td>\n",
       "      <td>27.900</td>\n",
       "      <td>0</td>\n",
       "      <td>1</td>\n",
       "      <td>3</td>\n",
       "      <td>16884.92400</td>\n",
       "    </tr>\n",
       "    <tr>\n",
       "      <th>1</th>\n",
       "      <td>18</td>\n",
       "      <td>1</td>\n",
       "      <td>33.770</td>\n",
       "      <td>1</td>\n",
       "      <td>0</td>\n",
       "      <td>2</td>\n",
       "      <td>1725.55230</td>\n",
       "    </tr>\n",
       "    <tr>\n",
       "      <th>2</th>\n",
       "      <td>28</td>\n",
       "      <td>1</td>\n",
       "      <td>33.000</td>\n",
       "      <td>3</td>\n",
       "      <td>0</td>\n",
       "      <td>2</td>\n",
       "      <td>4449.46200</td>\n",
       "    </tr>\n",
       "    <tr>\n",
       "      <th>3</th>\n",
       "      <td>33</td>\n",
       "      <td>1</td>\n",
       "      <td>22.705</td>\n",
       "      <td>0</td>\n",
       "      <td>0</td>\n",
       "      <td>1</td>\n",
       "      <td>21984.47061</td>\n",
       "    </tr>\n",
       "    <tr>\n",
       "      <th>4</th>\n",
       "      <td>32</td>\n",
       "      <td>1</td>\n",
       "      <td>28.880</td>\n",
       "      <td>0</td>\n",
       "      <td>0</td>\n",
       "      <td>1</td>\n",
       "      <td>3866.85520</td>\n",
       "    </tr>\n",
       "  </tbody>\n",
       "</table>\n",
       "</div>"
      ],
      "text/plain": [
       "   age  sex     bmi  children  smoker  region      charges\n",
       "0   19    0  27.900         0       1       3  16884.92400\n",
       "1   18    1  33.770         1       0       2   1725.55230\n",
       "2   28    1  33.000         3       0       2   4449.46200\n",
       "3   33    1  22.705         0       0       1  21984.47061\n",
       "4   32    1  28.880         0       0       1   3866.85520"
      ]
     },
     "execution_count": 15,
     "metadata": {},
     "output_type": "execute_result"
    }
   ],
   "source": [
    "data.head() # Las 5 primeras observaciones del dataset."
   ]
  },
  {
   "cell_type": "code",
   "execution_count": 16,
   "metadata": {},
   "outputs": [
    {
     "data": {
      "text/html": [
       "<div>\n",
       "<style scoped>\n",
       "    .dataframe tbody tr th:only-of-type {\n",
       "        vertical-align: middle;\n",
       "    }\n",
       "\n",
       "    .dataframe tbody tr th {\n",
       "        vertical-align: top;\n",
       "    }\n",
       "\n",
       "    .dataframe thead th {\n",
       "        text-align: right;\n",
       "    }\n",
       "</style>\n",
       "<table border=\"1\" class=\"dataframe\">\n",
       "  <thead>\n",
       "    <tr style=\"text-align: right;\">\n",
       "      <th></th>\n",
       "      <th>age</th>\n",
       "      <th>sex</th>\n",
       "      <th>bmi</th>\n",
       "      <th>children</th>\n",
       "      <th>smoker</th>\n",
       "      <th>region</th>\n",
       "      <th>charges</th>\n",
       "    </tr>\n",
       "  </thead>\n",
       "  <tbody>\n",
       "    <tr>\n",
       "      <th>343</th>\n",
       "      <td>63</td>\n",
       "      <td>1</td>\n",
       "      <td>36.765</td>\n",
       "      <td>0</td>\n",
       "      <td>0</td>\n",
       "      <td>0</td>\n",
       "      <td>13981.85035</td>\n",
       "    </tr>\n",
       "    <tr>\n",
       "      <th>344</th>\n",
       "      <td>49</td>\n",
       "      <td>0</td>\n",
       "      <td>41.470</td>\n",
       "      <td>4</td>\n",
       "      <td>0</td>\n",
       "      <td>2</td>\n",
       "      <td>10977.20630</td>\n",
       "    </tr>\n",
       "    <tr>\n",
       "      <th>345</th>\n",
       "      <td>34</td>\n",
       "      <td>0</td>\n",
       "      <td>29.260</td>\n",
       "      <td>3</td>\n",
       "      <td>0</td>\n",
       "      <td>2</td>\n",
       "      <td>6184.29940</td>\n",
       "    </tr>\n",
       "    <tr>\n",
       "      <th>346</th>\n",
       "      <td>33</td>\n",
       "      <td>1</td>\n",
       "      <td>35.750</td>\n",
       "      <td>2</td>\n",
       "      <td>0</td>\n",
       "      <td>2</td>\n",
       "      <td>4889.99950</td>\n",
       "    </tr>\n",
       "    <tr>\n",
       "      <th>347</th>\n",
       "      <td>46</td>\n",
       "      <td>1</td>\n",
       "      <td>33.345</td>\n",
       "      <td>1</td>\n",
       "      <td>0</td>\n",
       "      <td>0</td>\n",
       "      <td>8334.45755</td>\n",
       "    </tr>\n",
       "  </tbody>\n",
       "</table>\n",
       "</div>"
      ],
      "text/plain": [
       "     age  sex     bmi  children  smoker  region      charges\n",
       "343   63    1  36.765         0       0       0  13981.85035\n",
       "344   49    0  41.470         4       0       2  10977.20630\n",
       "345   34    0  29.260         3       0       2   6184.29940\n",
       "346   33    1  35.750         2       0       2   4889.99950\n",
       "347   46    1  33.345         1       0       0   8334.45755"
      ]
     },
     "execution_count": 16,
     "metadata": {},
     "output_type": "execute_result"
    }
   ],
   "source": [
    "data.tail() # Las 5 últimas observaciones del dataset."
   ]
  },
  {
   "cell_type": "code",
   "execution_count": 18,
   "metadata": {},
   "outputs": [
    {
     "data": {
      "text/plain": [
       "Index([], dtype='object')"
      ]
     },
     "execution_count": 18,
     "metadata": {},
     "output_type": "execute_result"
    }
   ],
   "source": [
    "# No hay columnas que tengan valores desconocidos.\n",
    "data.columns[data.isna().any()]"
   ]
  },
  {
   "cell_type": "markdown",
   "metadata": {},
   "source": [
    "Con el analisis exploratorio inicial podemos sacar algunas conclusiones de nuestra base de datos:\n",
    "\n",
    "1)Es un dataset pequeño, con pocas observaciones y pocas variables\n",
    "\n",
    "2) Las variables son: la edad del individuo, su sexo, su indice de masa corporal, cuantos hijos tiene, si es fumador o no, su región y el cargo que le hacen por el seguro.\n",
    "\n",
    "3) No hay datos faltantes, es algo lógico pensar eso, ya que la muestra es pequeña."
   ]
  },
  {
   "cell_type": "markdown",
   "metadata": {},
   "source": [
    "ANÁLISIS EXPLORATORIO DE LOS DATOS"
   ]
  },
  {
   "cell_type": "code",
   "execution_count": 21,
   "metadata": {},
   "outputs": [
    {
     "data": {
      "text/html": [
       "<div>\n",
       "<style scoped>\n",
       "    .dataframe tbody tr th:only-of-type {\n",
       "        vertical-align: middle;\n",
       "    }\n",
       "\n",
       "    .dataframe tbody tr th {\n",
       "        vertical-align: top;\n",
       "    }\n",
       "\n",
       "    .dataframe thead th {\n",
       "        text-align: right;\n",
       "    }\n",
       "</style>\n",
       "<table border=\"1\" class=\"dataframe\">\n",
       "  <thead>\n",
       "    <tr style=\"text-align: right;\">\n",
       "      <th></th>\n",
       "      <th>age</th>\n",
       "      <th>sex</th>\n",
       "      <th>bmi</th>\n",
       "      <th>children</th>\n",
       "      <th>smoker</th>\n",
       "      <th>region</th>\n",
       "      <th>charges</th>\n",
       "    </tr>\n",
       "  </thead>\n",
       "  <tbody>\n",
       "    <tr>\n",
       "      <th>0</th>\n",
       "      <td>19</td>\n",
       "      <td>0</td>\n",
       "      <td>27.900</td>\n",
       "      <td>0</td>\n",
       "      <td>1</td>\n",
       "      <td>3</td>\n",
       "      <td>16884.92400</td>\n",
       "    </tr>\n",
       "    <tr>\n",
       "      <th>1</th>\n",
       "      <td>18</td>\n",
       "      <td>1</td>\n",
       "      <td>33.770</td>\n",
       "      <td>1</td>\n",
       "      <td>0</td>\n",
       "      <td>2</td>\n",
       "      <td>1725.55230</td>\n",
       "    </tr>\n",
       "    <tr>\n",
       "      <th>2</th>\n",
       "      <td>28</td>\n",
       "      <td>1</td>\n",
       "      <td>33.000</td>\n",
       "      <td>3</td>\n",
       "      <td>0</td>\n",
       "      <td>2</td>\n",
       "      <td>4449.46200</td>\n",
       "    </tr>\n",
       "    <tr>\n",
       "      <th>3</th>\n",
       "      <td>33</td>\n",
       "      <td>1</td>\n",
       "      <td>22.705</td>\n",
       "      <td>0</td>\n",
       "      <td>0</td>\n",
       "      <td>1</td>\n",
       "      <td>21984.47061</td>\n",
       "    </tr>\n",
       "    <tr>\n",
       "      <th>4</th>\n",
       "      <td>32</td>\n",
       "      <td>1</td>\n",
       "      <td>28.880</td>\n",
       "      <td>0</td>\n",
       "      <td>0</td>\n",
       "      <td>1</td>\n",
       "      <td>3866.85520</td>\n",
       "    </tr>\n",
       "  </tbody>\n",
       "</table>\n",
       "</div>"
      ],
      "text/plain": [
       "   age  sex     bmi  children  smoker  region      charges\n",
       "0   19    0  27.900         0       1       3  16884.92400\n",
       "1   18    1  33.770         1       0       2   1725.55230\n",
       "2   28    1  33.000         3       0       2   4449.46200\n",
       "3   33    1  22.705         0       0       1  21984.47061\n",
       "4   32    1  28.880         0       0       1   3866.85520"
      ]
     },
     "execution_count": 21,
     "metadata": {},
     "output_type": "execute_result"
    }
   ],
   "source": [
    "data.head()"
   ]
  },
  {
   "cell_type": "code",
   "execution_count": 46,
   "metadata": {},
   "outputs": [
    {
     "data": {
      "image/png": "[encoded data removed]",
      "text/plain": [
       "<Figure size 432x288 with 1 Axes>"
      ]
     },
     "metadata": {},
     "output_type": "display_data"
    }
   ],
   "source": [
    "# Vemos que la proporción entre hombres y mujeres esta bastante proporcianoda, es bueno porque nuestros resultados no \n",
    "# estaran sesgados por razones de sexo.\n",
    "ax = data[\"sex\"].value_counts().plot(kind=\"bar\", grid = True)\n",
    "ax.set_xticklabels([\"Hombre\",\"Mujer\"]);"
   ]
  },
  {
   "cell_type": "code",
   "execution_count": 49,
   "metadata": {},
   "outputs": [
    {
     "data": {
      "text/plain": [
       "0    150\n",
       "1     82\n",
       "2     63\n",
       "3     43\n",
       "4      7\n",
       "5      3\n",
       "Name: children, dtype: int64"
      ]
     },
     "execution_count": 49,
     "metadata": {},
     "output_type": "execute_result"
    }
   ],
   "source": [
    "data[\"children\"].value_counts()"
   ]
  },
  {
   "cell_type": "code",
   "execution_count": 59,
   "metadata": {},
   "outputs": [
    {
     "data": {
      "image/png": "[encoded data removed]",
      "text/plain": [
       "<Figure size 720x720 with 1 Axes>"
      ]
     },
     "metadata": {},
     "output_type": "display_data"
    }
   ],
   "source": [
    "# Representamos el porcentaje de personas que tiene 0, 1, 2, 3, 4 o 5 hijos\n",
    "children0 = data[data['children'] == 0]\n",
    "children1 = data[data['children'] == 1]\n",
    "children2 = data[data['children'] == 2]\n",
    "children3 = data[data['children'] == 3]\n",
    "children4 = data[data['children'] == 4]\n",
    "children5 = data[data['children'] == 5]\n",
    "\n",
    "x_children0 = children0['children'].count()\n",
    "x_children1 = children1['children'].count()\n",
    "x_children2 = children2['children'].count()\n",
    "x_children3 = children3['children'].count()\n",
    "x_children4 = children4['children'].count()\n",
    "x_children5 = children5['children'].count()\n",
    "\n",
    "plt.figure(figsize = (10,10))\n",
    "\n",
    "plt.pie([x_children0, x_children1, x_children2, x_children3, x_children4, x_children5],\n",
    "        labels = [\"0 hijo\", \"1 hijo\", \"2 hijo\", \"3 hijo\", \"4 hijo\", \"5 hijo\"],\n",
    "        autopct ='%1.1f%%',\n",
    "        shadow = True)\n",
    "\n",
    "plt.show()"
   ]
  },
  {
   "cell_type": "code",
   "execution_count": 114,
   "metadata": {},
   "outputs": [
    {
     "data": {
      "text/plain": [
       "Text(0.5, 1.0, 'Number of children')"
      ]
     },
     "execution_count": 114,
     "metadata": {},
     "output_type": "execute_result"
    },
    {
     "data": {
      "image/png": "[encoded data removed]",
      "text/plain": [
       "<Figure size 1008x576 with 2 Axes>"
      ]
     },
     "metadata": {
      "needs_background": "light"
     },
     "output_type": "display_data"
    }
   ],
   "source": [
    "# Generamos dos boxplots que representan las variables Sexo y El número de Hijos\n",
    "fig, ax = plt.subplots(1,2, figsize=(14,8))\n",
    "sns.boxplot(x = 'sex', y ='charges', data = data, ax = ax[0])\n",
    "ax[0].set_title('Male vs Female')\n",
    "sns.boxplot(x = 'children',y='charges', data = data, ax=ax[1])\n",
    "ax[1].set_title('Number of children')"
   ]
  },
  {
   "cell_type": "code",
   "execution_count": 115,
   "metadata": {},
   "outputs": [
    {
     "data": {
      "text/plain": [
       "<matplotlib.axes._subplots.AxesSubplot at 0x1a2f4edfd0>"
      ]
     },
     "execution_count": 115,
     "metadata": {},
     "output_type": "execute_result"
    },
    {
     "data": {
      "image/png": "[encoded data removed]",
      "text/plain": [
       "<Figure size 432x288 with 1 Axes>"
      ]
     },
     "metadata": {
      "needs_background": "light"
     },
     "output_type": "display_data"
    }
   ],
   "source": [
    "bins = [0,1,3,5]\n",
    "labels = ['Small_Family','Medium_Family','Large_Family']\n",
    "data['children_binned'] = pd.cut(data['children'], bins=bins, labels=labels)\n",
    "sns.boxplot(x = 'children_binned',y='charges', data = data)\n"
   ]
  },
  {
   "cell_type": "code",
   "execution_count": 61,
   "metadata": {},
   "outputs": [
    {
     "data": {
      "image/png": "[encoded data removed]",
      "text/plain": [
       "<Figure size 720x720 with 2 Axes>"
      ]
     },
     "metadata": {},
     "output_type": "display_data"
    }
   ],
   "source": [
    "# Representamos las correlaciones entre las variables\n",
    "plt.figure(figsize = (10,10))\n",
    "\n",
    "sns.heatmap(data.corr(), square=True)\n",
    "plt.show()"
   ]
  },
  {
   "cell_type": "code",
   "execution_count": 60,
   "metadata": {},
   "outputs": [
    {
     "data": {
      "text/plain": [
       "<seaborn.axisgrid.PairGrid at 0x1a20988c88>"
      ]
     },
     "execution_count": 60,
     "metadata": {},
     "output_type": "execute_result"
    },
    {
     "data": {
      "image/png": "[encoded data removed]",
      "text/plain": [
       "<Figure size 900x900 with 30 Axes>"
      ]
     },
     "metadata": {},
     "output_type": "display_data"
    }
   ],
   "source": [
    "# Aqui hacemos los mismo pero en gráficas\n",
    "sns.pairplot(data[['age','bmi','children','smoker','charges']])"
   ]
  },
  {
   "cell_type": "markdown",
   "metadata": {},
   "source": [
    "Podemos ver que la edad y el precio del seguro tienen una correlación positiva (a mas edad mas precio). También podemos ver esto en el indice de masa corporal (bmi), pero menos."
   ]
  },
  {
   "cell_type": "markdown",
   "metadata": {},
   "source": [
    "REGRESIÓN LINEAL SIMPLE "
   ]
  },
  {
   "cell_type": "code",
   "execution_count": 4,
   "metadata": {},
   "outputs": [],
   "source": [
    "x = data.iloc[:, 0].values\n",
    "y = data.iloc[:, 6].values"
   ]
  },
  {
   "cell_type": "code",
   "execution_count": 5,
   "metadata": {},
   "outputs": [],
   "source": [
    "# Divido el data set en conjunto de entrenamiento y conjunto de testing\n",
    "from sklearn.model_selection import train_test_split\n",
    "X_train, X_test, y_train, y_test = train_test_split(x, y, test_size = 1/3, random_state = 0)"
   ]
  },
  {
   "cell_type": "code",
   "execution_count": 8,
   "metadata": {},
   "outputs": [],
   "source": [
    "X_train = X_train.reshape(-1, 1)\n",
    "X_test = X_test.reshape(-1, 1)"
   ]
  },
  {
   "cell_type": "code",
   "execution_count": 9,
   "metadata": {},
   "outputs": [
    {
     "data": {
      "text/plain": [
       "LinearRegression(copy_X=True, fit_intercept=True, n_jobs=None, normalize=False)"
      ]
     },
     "execution_count": 9,
     "metadata": {},
     "output_type": "execute_result"
    }
   ],
   "source": [
    "from sklearn.linear_model import LinearRegression\n",
    "regression_lsm = LinearRegression()\n",
    "regression_lsm.fit(X_train, y_train)"
   ]
  },
  {
   "cell_type": "code",
   "execution_count": 11,
   "metadata": {},
   "outputs": [],
   "source": [
    "y_pred_lsm = regression_lsm.predict(X_test)"
   ]
  },
  {
   "cell_type": "code",
   "execution_count": 14,
   "metadata": {},
   "outputs": [
    {
     "name": "stdout",
     "output_type": "stream",
     "text": [
      "[16563.45144937 17041.95474452 17281.20639209 18716.71627752\n",
      " 11539.16685037 12496.17344066 14170.93497366 19434.47122023\n",
      " 10582.16026009 12496.17344066 17998.9613348  15127.94156394\n",
      " 15606.44485909 18238.21298237 19673.7228678  10103.65696495\n",
      " 10103.65696495 20391.47781051 12017.67014552 15127.94156394\n",
      " 11299.9152028  19673.7228678  11778.41849795 20152.22616294\n",
      " 13931.68332609 20630.72945809 10103.65696495 18716.71627752\n",
      " 12496.17344066 20630.72945809 10342.90861252 15845.69650666\n",
      " 15127.94156394 17998.9613348  19434.47122023 15367.19321152\n",
      " 16563.45144937 10103.65696495 10821.41190766 19912.97451537\n",
      " 17759.70968723 15367.19321152 15127.94156394 18238.21298237\n",
      " 20630.72945809  9864.40531737 12735.42508823 18477.46462994\n",
      " 20630.72945809 10582.16026009 10342.90861252 16563.45144937\n",
      " 18238.21298237 14410.18662123 10103.65696495 12256.92179309\n",
      " 15606.44485909 12496.17344066 16084.94815423 13692.43167852\n",
      " 12017.67014552 18716.71627752 19434.47122023 10103.65696495\n",
      " 12735.42508823 10103.65696495 12735.42508823 16084.94815423\n",
      " 11778.41849795 12256.92179309 10103.65696495 10103.65696495\n",
      " 18955.96792509 12735.42508823 10821.41190766 19434.47122023\n",
      " 14170.93497366 12735.42508823 14888.68991637 17281.20639209\n",
      "  9864.40531737 16563.45144937 17520.45803966  9864.40531737\n",
      " 10103.65696495 12974.6767358  13692.43167852 18716.71627752\n",
      " 20152.22616294 10103.65696495 11060.66355523 13692.43167852\n",
      " 20152.22616294 12735.42508823 19912.97451537 11060.66355523\n",
      " 13213.92838337 10342.90861252 16802.70309694 18238.21298237\n",
      " 10342.90861252 13692.43167852 12256.92179309 17520.45803966\n",
      " 17998.9613348  10342.90861252 16563.45144937 11778.41849795\n",
      " 16324.1998018   9864.40531737 18477.46462994 14410.18662123\n",
      " 18477.46462994 15367.19321152 12496.17344066  9864.40531737]\n"
     ]
    }
   ],
   "source": [
    "print(y_pred_lsm)"
   ]
  },
  {
   "cell_type": "code",
   "execution_count": 15,
   "metadata": {},
   "outputs": [
    {
     "name": "stdout",
     "output_type": "stream",
     "text": [
      "[ 8240.5896  23568.272    9282.4806  20630.28351  3906.127    4922.9159\n",
      "  4883.866   11381.3254   2026.9741   4040.55825  9144.565    5920.1041\n",
      " 19515.5416  11163.568   30184.9367   1261.442    1632.56445 13937.6665\n",
      "  2483.736   19444.2658   1986.9334  12928.7911   2302.3     30942.1918\n",
      "  5125.2157  14451.83515  1837.237   11082.5772   3947.4131  48824.45\n",
      " 14711.7438   8606.2174   8059.6791  11488.31695 47496.49445  6186.127\n",
      "  8232.6388   1832.094    2755.02095 13228.84695  9855.1314   8538.28845\n",
      " 17179.522   10564.8845  13880.949   21344.8467   3645.0894  48549.17835\n",
      " 13405.3903   2404.7338   2457.21115  8334.45755 24873.3849   7281.5056\n",
      "  1743.214    4337.7352  19964.7463  20277.80751  7726.854    5989.52365\n",
      "  4260.744   13047.33235 13607.36875 16297.846   20745.9891   2331.519\n",
      " 36950.2567   7740.337    3392.9768   4133.64165 36219.40545 17352.6803\n",
      " 12265.5069   4149.736    2155.6815  11837.16    38709.176    4151.0287\n",
      "  5649.715    8116.68    12829.4551   7147.105    8835.26495  1137.011\n",
      "  2130.6759   4463.2051  27375.90478 11987.1682  14235.072   17081.08\n",
      "  1826.843    5012.471   13429.0354   4237.12655 13217.0945   2395.17155\n",
      "  6128.79745  2257.47525  9715.841   10355.641    1980.07    18972.495\n",
      "  4349.462   42856.838   25992.82104  4830.63     9432.9253   3490.5491\n",
      "  7935.29115  1725.5523  10450.552    6406.4107  44260.7499   7358.17565\n",
      "  5138.2567   1719.4363 ]\n"
     ]
    }
   ],
   "source": [
    "print(y_test)"
   ]
  },
  {
   "cell_type": "code",
   "execution_count": 19,
   "metadata": {},
   "outputs": [
    {
     "data": {
      "image/png": "[encoded data removed]",
      "text/plain": [
       "<Figure size 432x288 with 1 Axes>"
      ]
     },
     "metadata": {
      "needs_background": "light"
     },
     "output_type": "display_data"
    }
   ],
   "source": [
    "# Visualizo los resultados de entrenamiento\n",
    "plt.scatter(X_train, y_train, color = \"red\")\n",
    "plt.plot(X_train, regression_lsm.predict(X_train), color = \"blue\")\n",
    "plt.title(\"Precio seguro vs Edad (Conjunto de Entrenamiento)\")\n",
    "plt.xlabel(\"Edad\")\n",
    "plt.ylabel(\"Precio (en $)\")\n",
    "plt.show()"
   ]
  },
  {
   "cell_type": "code",
   "execution_count": 18,
   "metadata": {},
   "outputs": [
    {
     "data": {
      "image/png": "[encoded data removed]",
      "text/plain": [
       "<Figure size 432x288 with 1 Axes>"
      ]
     },
     "metadata": {
      "needs_background": "light"
     },
     "output_type": "display_data"
    }
   ],
   "source": [
    "# Visualizo los resultados de test\n",
    "plt.scatter(X_test, y_test, color = \"red\")\n",
    "plt.plot(X_train, regression_lsm.predict(X_train), color = \"blue\")\n",
    "plt.title(\"Precio seguro vs Edad (Conjunto de Testing)\")\n",
    "plt.xlabel(\"Edad\")\n",
    "plt.ylabel(\"Precio (en $)\")\n",
    "plt.show()"
   ]
  },
  {
   "cell_type": "code",
   "execution_count": 20,
   "metadata": {},
   "outputs": [],
   "source": [
    "x = data.iloc[:, 2].values\n",
    "y = data.iloc[:, 6].values"
   ]
  },
  {
   "cell_type": "code",
   "execution_count": 21,
   "metadata": {},
   "outputs": [],
   "source": [
    "# Divido el data set en conjunto de entrenamiento y conjunto de testing\n",
    "from sklearn.model_selection import train_test_split\n",
    "X_train, X_test, y_train, y_test = train_test_split(x, y, test_size = 1/3, random_state = 0)"
   ]
  },
  {
   "cell_type": "code",
   "execution_count": 22,
   "metadata": {},
   "outputs": [],
   "source": [
    "X_train = X_train.reshape(-1, 1)\n",
    "X_test = X_test.reshape(-1, 1)"
   ]
  },
  {
   "cell_type": "code",
   "execution_count": 23,
   "metadata": {},
   "outputs": [
    {
     "data": {
      "text/plain": [
       "LinearRegression(copy_X=True, fit_intercept=True, n_jobs=None, normalize=False)"
      ]
     },
     "execution_count": 23,
     "metadata": {},
     "output_type": "execute_result"
    }
   ],
   "source": [
    "from sklearn.linear_model import LinearRegression\n",
    "regression_lsm = LinearRegression()\n",
    "regression_lsm.fit(X_train, y_train)"
   ]
  },
  {
   "cell_type": "code",
   "execution_count": 24,
   "metadata": {},
   "outputs": [],
   "source": [
    "y_pred_lsm = regression_lsm.predict(X_test)"
   ]
  },
  {
   "cell_type": "code",
   "execution_count": 25,
   "metadata": {},
   "outputs": [
    {
     "name": "stdout",
     "output_type": "stream",
     "text": [
      "[16931.17943574 13591.49475177 12265.44348019 19300.88217106\n",
      " 12854.79960089 16114.67564352 12486.45202545 26520.49464965\n",
      " 20645.35082141 14190.05956186 18932.53459562 18619.4391565\n",
      " 11528.74832931 18441.40449504 14714.95485686 17336.36176872\n",
      " 12090.47838186 13315.23407019 10583.32288569 10043.07977505\n",
      " 18416.84799001 15918.22360329  9171.32384651 14770.20699317\n",
      " 11215.65289019 10574.1141963  11504.19182429 12965.30387352\n",
      " 14567.61582668 19546.44722135 10165.86230019 13198.5906713\n",
      " 14015.09446352 16172.99734296 19089.08231518 15801.5802044\n",
      " 13419.59921656  9232.71510908 20838.73329852 18505.86532074\n",
      "  9637.89744206 16756.21433741  8557.41122078 16814.53603685\n",
      " 15924.36272954 14889.91995519 12032.15668241 21305.30689407\n",
      " 21860.89782036 18330.90022241 14073.41616297 16872.8577363\n",
      " 10282.50569908 13431.87746908 14144.01611493 14131.73786241\n",
      " 10749.07929464 14598.31145797 13223.14717633 19322.36911296\n",
      " 15003.49379095 11973.83498297 15939.71054519 13407.32096405\n",
      " 14015.09446352 13837.05980206 18214.25682352 19178.09964592\n",
      " 14770.20699317 12323.76517964 19089.08231518 14248.3812613\n",
      " 19429.80382246 16292.71030498 13622.19038306 11872.53939972\n",
      " 18011.66565703 16863.64904691 16538.27535527 15003.49379095\n",
      "  7016.4905302  10092.19278511 16172.99734296 17336.36176872\n",
      " 16114.67564352 19970.04693311 10165.86230019 17201.30099106\n",
      " 20405.92489738 13775.66853949 17520.53555644 17090.79671843\n",
      " 15531.45864908 13373.55576963 13315.23407019 11040.68779186\n",
      " 16756.21433741 14190.05956186 12732.01707575 12732.01707575\n",
      " 16661.05788042 11933.9306623  16661.05788042 17397.7530313\n",
      " 12609.2345506  19116.70838334 25912.72115018 16347.9624413\n",
      " 19905.58610741 17133.77060223 20712.88121024 14714.95485686\n",
      " 17403.89215755 15823.0671463  20240.16848843 14432.55504902]\n"
     ]
    }
   ],
   "source": [
    "print(y_pred_lsm)"
   ]
  },
  {
   "cell_type": "code",
   "execution_count": 26,
   "metadata": {},
   "outputs": [
    {
     "name": "stdout",
     "output_type": "stream",
     "text": [
      "[ 8240.5896  23568.272    9282.4806  20630.28351  3906.127    4922.9159\n",
      "  4883.866   11381.3254   2026.9741   4040.55825  9144.565    5920.1041\n",
      " 19515.5416  11163.568   30184.9367   1261.442    1632.56445 13937.6665\n",
      "  2483.736   19444.2658   1986.9334  12928.7911   2302.3     30942.1918\n",
      "  5125.2157  14451.83515  1837.237   11082.5772   3947.4131  48824.45\n",
      " 14711.7438   8606.2174   8059.6791  11488.31695 47496.49445  6186.127\n",
      "  8232.6388   1832.094    2755.02095 13228.84695  9855.1314   8538.28845\n",
      " 17179.522   10564.8845  13880.949   21344.8467   3645.0894  48549.17835\n",
      " 13405.3903   2404.7338   2457.21115  8334.45755 24873.3849   7281.5056\n",
      "  1743.214    4337.7352  19964.7463  20277.80751  7726.854    5989.52365\n",
      "  4260.744   13047.33235 13607.36875 16297.846   20745.9891   2331.519\n",
      " 36950.2567   7740.337    3392.9768   4133.64165 36219.40545 17352.6803\n",
      " 12265.5069   4149.736    2155.6815  11837.16    38709.176    4151.0287\n",
      "  5649.715    8116.68    12829.4551   7147.105    8835.26495  1137.011\n",
      "  2130.6759   4463.2051  27375.90478 11987.1682  14235.072   17081.08\n",
      "  1826.843    5012.471   13429.0354   4237.12655 13217.0945   2395.17155\n",
      "  6128.79745  2257.47525  9715.841   10355.641    1980.07    18972.495\n",
      "  4349.462   42856.838   25992.82104  4830.63     9432.9253   3490.5491\n",
      "  7935.29115  1725.5523  10450.552    6406.4107  44260.7499   7358.17565\n",
      "  5138.2567   1719.4363 ]\n"
     ]
    }
   ],
   "source": [
    "print(y_test)"
   ]
  },
  {
   "cell_type": "code",
   "execution_count": 27,
   "metadata": {},
   "outputs": [
    {
     "data": {
      "image/png": "[encoded data removed]",
      "text/plain": [
       "<Figure size 432x288 with 1 Axes>"
      ]
     },
     "metadata": {
      "needs_background": "light"
     },
     "output_type": "display_data"
    }
   ],
   "source": [
    "# Visualizo los resultados de entrenamiento\n",
    "plt.scatter(X_train, y_train, color = \"red\")\n",
    "plt.plot(X_train, regression_lsm.predict(X_train), color = \"blue\")\n",
    "plt.title(\"Precio seguro vs BMI (Conjunto de Entrenamiento)\")\n",
    "plt.xlabel(\"BMI\")\n",
    "plt.ylabel(\"Precio (en $)\")\n",
    "plt.show()"
   ]
  },
  {
   "cell_type": "code",
   "execution_count": 28,
   "metadata": {},
   "outputs": [
    {
     "data": {
      "image/png": "[encoded data removed]",
      "text/plain": [
       "<Figure size 432x288 with 1 Axes>"
      ]
     },
     "metadata": {
      "needs_background": "light"
     },
     "output_type": "display_data"
    }
   ],
   "source": [
    "# Visualizo los resultados de test\n",
    "plt.scatter(X_test, y_test, color = \"red\")\n",
    "plt.plot(X_train, regression_lsm.predict(X_train), color = \"blue\")\n",
    "plt.title(\"Precio seguro vs BMI (Conjunto de Testing)\")\n",
    "plt.xlabel(\"BMI\")\n",
    "plt.ylabel(\"Precio (en $)\")\n",
    "plt.show()"
   ]
  },
  {
   "cell_type": "code",
   "execution_count": 29,
   "metadata": {},
   "outputs": [
    {
     "data": {
      "text/html": [
       "<div>\n",
       "<style scoped>\n",
       "    .dataframe tbody tr th:only-of-type {\n",
       "        vertical-align: middle;\n",
       "    }\n",
       "\n",
       "    .dataframe tbody tr th {\n",
       "        vertical-align: top;\n",
       "    }\n",
       "\n",
       "    .dataframe thead th {\n",
       "        text-align: right;\n",
       "    }\n",
       "</style>\n",
       "<table border=\"1\" class=\"dataframe\">\n",
       "  <thead>\n",
       "    <tr style=\"text-align: right;\">\n",
       "      <th></th>\n",
       "      <th>age</th>\n",
       "      <th>sex</th>\n",
       "      <th>bmi</th>\n",
       "      <th>children</th>\n",
       "      <th>smoker</th>\n",
       "      <th>region</th>\n",
       "      <th>charges</th>\n",
       "    </tr>\n",
       "  </thead>\n",
       "  <tbody>\n",
       "    <tr>\n",
       "      <th>0</th>\n",
       "      <td>19</td>\n",
       "      <td>0</td>\n",
       "      <td>27.9</td>\n",
       "      <td>0</td>\n",
       "      <td>1</td>\n",
       "      <td>3</td>\n",
       "      <td>16884.924</td>\n",
       "    </tr>\n",
       "  </tbody>\n",
       "</table>\n",
       "</div>"
      ],
      "text/plain": [
       "   age  sex   bmi  children  smoker  region    charges\n",
       "0   19    0  27.9         0       1       3  16884.924"
      ]
     },
     "execution_count": 29,
     "metadata": {},
     "output_type": "execute_result"
    }
   ],
   "source": [
    "data.head(1)"
   ]
  },
  {
   "cell_type": "markdown",
   "metadata": {},
   "source": [
    "REGRESIÓN CON ARBOLES DE DECISIÓN"
   ]
  },
  {
   "cell_type": "code",
   "execution_count": 32,
   "metadata": {},
   "outputs": [],
   "source": [
    "X = data.iloc[:, :6].values\n",
    "y = data.iloc[:, 6].values"
   ]
  },
  {
   "cell_type": "code",
   "execution_count": 33,
   "metadata": {},
   "outputs": [],
   "source": [
    "# Divido el data set en conjunto de entrenamiento y conjunto de testing\n",
    "from sklearn.model_selection import train_test_split\n",
    "X_train, X_test, y_train, y_test = train_test_split(X, y, test_size = 0.2, random_state = 0)"
   ]
  },
  {
   "cell_type": "code",
   "execution_count": 34,
   "metadata": {},
   "outputs": [
    {
     "data": {
      "text/plain": [
       "DecisionTreeRegressor(criterion='mse', max_depth=None, max_features=None,\n",
       "                      max_leaf_nodes=None, min_impurity_decrease=0.0,\n",
       "                      min_impurity_split=None, min_samples_leaf=1,\n",
       "                      min_samples_split=2, min_weight_fraction_leaf=0.0,\n",
       "                      presort=False, random_state=0, splitter='best')"
      ]
     },
     "execution_count": 34,
     "metadata": {},
     "output_type": "execute_result"
    }
   ],
   "source": [
    "# Ajusto la regresión con el dataset\n",
    "from sklearn.tree import DecisionTreeRegressor\n",
    "regression_tree = DecisionTreeRegressor(random_state = 0)\n",
    "regression_tree.fit(X_train, y_train)"
   ]
  },
  {
   "cell_type": "code",
   "execution_count": 35,
   "metadata": {},
   "outputs": [],
   "source": [
    "# Predicción de nuestro modelo\n",
    "y_pred_tree = regression_tree.predict(X_test)"
   ]
  },
  {
   "cell_type": "code",
   "execution_count": 36,
   "metadata": {},
   "outputs": [
    {
     "name": "stdout",
     "output_type": "stream",
     "text": [
      "[ 7935.29115 22331.5668   7789.635   10226.2842  20177.67113 19442.3535\n",
      "  5003.853   24227.33724  1631.8212   3172.018    9722.7695   6571.02435\n",
      " 21223.6758  10959.6947  47305.305    1137.011    1639.5631  30166.61817\n",
      "  3561.8889  21098.55405  2855.43755 12265.5069   4827.90495 47305.305\n",
      "  4894.7533  13616.3586   1842.519   35160.13457  3172.018   48517.56315\n",
      " 16577.7795  19144.57652  6203.90175 19749.38338 43921.1837   6571.02435\n",
      "  8026.6666   1842.519    2045.68525 12648.7034  10942.13205  7749.1564\n",
      " 21978.6769  10355.641   13981.85035  2198.18985  3866.8552  46151.1245\n",
      " 14901.5167   2257.47525  2257.47525  8124.4084  22412.6485   6455.86265\n",
      "  1615.7667   3172.018   21348.706    3172.018    7731.4271   5729.0053\n",
      "  3981.9768  14001.1338  12265.5069  17560.37975 19107.7796   1615.7667\n",
      " 37133.8982   7152.6714   3490.5491   2137.6536 ]\n"
     ]
    }
   ],
   "source": [
    "print(y_pred_tree)"
   ]
  },
  {
   "cell_type": "code",
   "execution_count": 37,
   "metadata": {},
   "outputs": [
    {
     "name": "stdout",
     "output_type": "stream",
     "text": [
      "[ 8240.5896  23568.272    9282.4806  20630.28351  3906.127    4922.9159\n",
      "  4883.866   11381.3254   2026.9741   4040.55825  9144.565    5920.1041\n",
      " 19515.5416  11163.568   30184.9367   1261.442    1632.56445 13937.6665\n",
      "  2483.736   19444.2658   1986.9334  12928.7911   2302.3     30942.1918\n",
      "  5125.2157  14451.83515  1837.237   11082.5772   3947.4131  48824.45\n",
      " 14711.7438   8606.2174   8059.6791  11488.31695 47496.49445  6186.127\n",
      "  8232.6388   1832.094    2755.02095 13228.84695  9855.1314   8538.28845\n",
      " 17179.522   10564.8845  13880.949   21344.8467   3645.0894  48549.17835\n",
      " 13405.3903   2404.7338   2457.21115  8334.45755 24873.3849   7281.5056\n",
      "  1743.214    4337.7352  19964.7463  20277.80751  7726.854    5989.52365\n",
      "  4260.744   13047.33235 13607.36875 16297.846   20745.9891   2331.519\n",
      " 36950.2567   7740.337    3392.9768   4133.64165]\n"
     ]
    }
   ],
   "source": [
    "print(y_test)"
   ]
  },
  {
   "cell_type": "code",
   "execution_count": null,
   "metadata": {},
   "outputs": [],
   "source": []
  },
  {
   "cell_type": "code",
   "execution_count": null,
   "metadata": {},
   "outputs": [],
   "source": []
  },
  {
   "cell_type": "code",
   "execution_count": null,
   "metadata": {},
   "outputs": [],
   "source": []
  },
  {
   "cell_type": "code",
   "execution_count": null,
   "metadata": {},
   "outputs": [],
   "source": []
  },
  {
   "cell_type": "code",
   "execution_count": null,
   "metadata": {},
   "outputs": [],
   "source": []
  },
  {
   "cell_type": "markdown",
   "metadata": {},
   "source": [
    "ANN (REDES NEURONALES ARTIFICIALES)"
   ]
  },
  {
   "cell_type": "code",
   "execution_count": 85,
   "metadata": {},
   "outputs": [],
   "source": [
    "# Lo que hago aqui es a los valores de la variables 'charges' que son mayores a 14016 convertirlos en 1 y los menores o\n",
    "# iguales en 0\n",
    "for i in range(348):\n",
    "    if data.charges.loc[i] > 14016:\n",
    "        data['charges'] = data['charges'].replace(data.charges.loc[i], '1')\n",
    "    else:\n",
    "        data['charges'] = data['charges'].replace(data.charges.loc[i], '0')       "
   ]
  },
  {
   "cell_type": "code",
   "execution_count": 87,
   "metadata": {},
   "outputs": [],
   "source": [
    "# Aqui simplemente convierto la variable 'charges' en númerico, par poder hacer la clasificacion con ANN\n",
    "data[\"charges\"] = data[\"charges\"].astype(int)"
   ]
  },
  {
   "cell_type": "code",
   "execution_count": 90,
   "metadata": {},
   "outputs": [],
   "source": [
    "# Difinimos la matriz de caracteristicas x e y\n",
    "x = data.iloc[:, :6].values\n",
    "y = data.iloc[:, 6].values"
   ]
  },
  {
   "cell_type": "code",
   "execution_count": 91,
   "metadata": {},
   "outputs": [],
   "source": [
    "# Dividimos en Conjunto de training y testing respectivamente\n",
    "from sklearn.model_selection import train_test_split\n",
    "X_train, X_test, y_train, y_test = train_test_split(x, y, test_size = 0.1, random_state = 0)"
   ]
  },
  {
   "cell_type": "code",
   "execution_count": 94,
   "metadata": {},
   "outputs": [],
   "source": [
    "# Escalado de variables\n",
    "from sklearn.preprocessing import StandardScaler\n",
    "sc_X = StandardScaler()\n",
    "X_train = sc_X.fit_transform(X_train)\n",
    "X_test = sc_X.transform(X_test)"
   ]
  },
  {
   "cell_type": "code",
   "execution_count": 27,
   "metadata": {},
   "outputs": [
    {
     "name": "stderr",
     "output_type": "stream",
     "text": [
      "Using TensorFlow backend.\n"
     ]
    }
   ],
   "source": [
    "# Cargo las librerias para crear mi Red Neuronal Artificial\n",
    "import keras\n",
    "from keras.models import Sequential\n",
    "from keras.layers import Dense"
   ]
  },
  {
   "cell_type": "code",
   "execution_count": 97,
   "metadata": {},
   "outputs": [],
   "source": [
    "# Inicializo la Red Neuronal\n",
    "classifier = Sequential()"
   ]
  },
  {
   "cell_type": "code",
   "execution_count": 98,
   "metadata": {},
   "outputs": [],
   "source": [
    "# Añado las capas de entrada y primera capa oculta\n",
    "classifier.add(Dense(units = 3, kernel_initializer = \"uniform\",  \n",
    "                     activation = \"relu\", input_dim = 6))"
   ]
  },
  {
   "cell_type": "code",
   "execution_count": 100,
   "metadata": {},
   "outputs": [],
   "source": [
    "# Añado la segunda capa oculta\n",
    "classifier.add(Dense(units = 6, kernel_initializer = \"uniform\",  activation = \"relu\"))"
   ]
  },
  {
   "cell_type": "code",
   "execution_count": 101,
   "metadata": {},
   "outputs": [],
   "source": [
    "# Añadir la capa de salida\n",
    "classifier.add(Dense(units = 1, kernel_initializer = \"uniform\",  activation = \"sigmoid\"))"
   ]
  },
  {
   "cell_type": "code",
   "execution_count": 102,
   "metadata": {},
   "outputs": [],
   "source": [
    "# Compilo la RNA\n",
    "classifier.compile(optimizer = \"adam\", loss = \"binary_crossentropy\", metrics = [\"accuracy\"])"
   ]
  },
  {
   "cell_type": "code",
   "execution_count": 103,
   "metadata": {},
   "outputs": [
    {
     "name": "stdout",
     "output_type": "stream",
     "text": [
      "Epoch 1/30\n",
      "313/313 [==============================] - 0s 1ms/step - loss: 0.6874 - accuracy: 0.6869\n",
      "Epoch 2/30\n",
      "313/313 [==============================] - 0s 489us/step - loss: 0.6711 - accuracy: 0.6869\n",
      "Epoch 3/30\n",
      "313/313 [==============================] - 0s 472us/step - loss: 0.6072 - accuracy: 0.8403\n",
      "Epoch 4/30\n",
      "313/313 [==============================] - 0s 476us/step - loss: 0.4572 - accuracy: 0.9137\n",
      "Epoch 5/30\n",
      "313/313 [==============================] - 0s 467us/step - loss: 0.3458 - accuracy: 0.9137\n",
      "Epoch 6/30\n",
      "313/313 [==============================] - 0s 471us/step - loss: 0.3001 - accuracy: 0.9137\n",
      "Epoch 7/30\n",
      "313/313 [==============================] - 0s 457us/step - loss: 0.2831 - accuracy: 0.9137\n",
      "Epoch 8/30\n",
      "313/313 [==============================] - 0s 477us/step - loss: 0.2756 - accuracy: 0.9137\n",
      "Epoch 9/30\n",
      "313/313 [==============================] - 0s 456us/step - loss: 0.2700 - accuracy: 0.9137\n",
      "Epoch 10/30\n",
      "313/313 [==============================] - 0s 480us/step - loss: 0.2655 - accuracy: 0.9137\n",
      "Epoch 11/30\n",
      "313/313 [==============================] - 0s 478us/step - loss: 0.2639 - accuracy: 0.9137\n",
      "Epoch 12/30\n",
      "313/313 [==============================] - 0s 462us/step - loss: 0.2613 - accuracy: 0.9137\n",
      "Epoch 13/30\n",
      "313/313 [==============================] - 0s 471us/step - loss: 0.2595 - accuracy: 0.9137\n",
      "Epoch 14/30\n",
      "313/313 [==============================] - 0s 469us/step - loss: 0.2584 - accuracy: 0.9137\n",
      "Epoch 15/30\n",
      "313/313 [==============================] - 0s 463us/step - loss: 0.2572 - accuracy: 0.9137\n",
      "Epoch 16/30\n",
      "313/313 [==============================] - 0s 491us/step - loss: 0.2563 - accuracy: 0.9137\n",
      "Epoch 17/30\n",
      "313/313 [==============================] - 0s 472us/step - loss: 0.2567 - accuracy: 0.9137\n",
      "Epoch 18/30\n",
      "313/313 [==============================] - 0s 464us/step - loss: 0.2556 - accuracy: 0.9137\n",
      "Epoch 19/30\n",
      "313/313 [==============================] - 0s 462us/step - loss: 0.2548 - accuracy: 0.9137\n",
      "Epoch 20/30\n",
      "313/313 [==============================] - 0s 461us/step - loss: 0.2543 - accuracy: 0.9137\n",
      "Epoch 21/30\n",
      "313/313 [==============================] - 0s 505us/step - loss: 0.2536 - accuracy: 0.9137\n",
      "Epoch 22/30\n",
      "313/313 [==============================] - 0s 503us/step - loss: 0.2531 - accuracy: 0.9137\n",
      "Epoch 23/30\n",
      "313/313 [==============================] - 0s 497us/step - loss: 0.2531 - accuracy: 0.9137\n",
      "Epoch 24/30\n",
      "313/313 [==============================] - 0s 464us/step - loss: 0.2528 - accuracy: 0.9137\n",
      "Epoch 25/30\n",
      "313/313 [==============================] - 0s 476us/step - loss: 0.2532 - accuracy: 0.9137\n",
      "Epoch 26/30\n",
      "313/313 [==============================] - 0s 475us/step - loss: 0.2508 - accuracy: 0.9169\n",
      "Epoch 27/30\n",
      "313/313 [==============================] - 0s 480us/step - loss: 0.2508 - accuracy: 0.9137\n",
      "Epoch 28/30\n",
      "313/313 [==============================] - 0s 480us/step - loss: 0.2494 - accuracy: 0.9137\n",
      "Epoch 29/30\n",
      "313/313 [==============================] - 0s 497us/step - loss: 0.2481 - accuracy: 0.9137\n",
      "Epoch 30/30\n",
      "313/313 [==============================] - 0s 480us/step - loss: 0.2491 - accuracy: 0.9137\n"
     ]
    },
    {
     "data": {
      "text/plain": [
       "<keras.callbacks.callbacks.History at 0x1a2e36ce48>"
      ]
     },
     "execution_count": 103,
     "metadata": {},
     "output_type": "execute_result"
    }
   ],
   "source": [
    "# Ajusto la RNA al Conjunto de training\n",
    "classifier.fit(X_train, y_train,  batch_size = 3, epochs = 30)"
   ]
  },
  {
   "cell_type": "code",
   "execution_count": 106,
   "metadata": {},
   "outputs": [],
   "source": [
    "# Predicción de los resultados con el Conjunto de Testing\n",
    "y_pred  = classifier.predict(X_test)"
   ]
  },
  {
   "cell_type": "code",
   "execution_count": 107,
   "metadata": {},
   "outputs": [
    {
     "data": {
      "text/plain": [
       "array([[0.09040585],\n",
       "       [0.99544764],\n",
       "       [0.10839385],\n",
       "       [0.05792099],\n",
       "       [0.06185904],\n",
       "       [0.08055723],\n",
       "       [0.06254005],\n",
       "       [0.08482665],\n",
       "       [0.04155743],\n",
       "       [0.07610151],\n",
       "       [0.0532752 ],\n",
       "       [0.06368968],\n",
       "       [0.98905456],\n",
       "       [0.23533237],\n",
       "       [0.9948605 ],\n",
       "       [0.03314054],\n",
       "       [0.05602074],\n",
       "       [0.10831177],\n",
       "       [0.05792055],\n",
       "       [0.9938232 ],\n",
       "       [0.03941354],\n",
       "       [0.09862667],\n",
       "       [0.05247721],\n",
       "       [0.9988549 ],\n",
       "       [0.0813624 ],\n",
       "       [0.2169596 ],\n",
       "       [0.04804647],\n",
       "       [0.12229252],\n",
       "       [0.06676477],\n",
       "       [0.9995553 ],\n",
       "       [0.9785416 ],\n",
       "       [0.11918712],\n",
       "       [0.1137013 ],\n",
       "       [0.11907634],\n",
       "       [0.99775994]], dtype=float32)"
      ]
     },
     "execution_count": 107,
     "metadata": {},
     "output_type": "execute_result"
    }
   ],
   "source": [
    "# Esta matrriz nos indica la probabilidad de que tenga un precio del seguro mayor o menor al que habiamos asignado arriba.\n",
    "y_pred"
   ]
  },
  {
   "cell_type": "code",
   "execution_count": 108,
   "metadata": {},
   "outputs": [
    {
     "data": {
      "text/plain": [
       "array([0, 1, 0, 1, 0, 0, 0, 0, 0, 0, 0, 0, 1, 0, 1, 0, 0, 0, 0, 1, 0, 0,\n",
       "       0, 1, 0, 1, 0, 0, 0, 1, 1, 0, 0, 0, 1])"
      ]
     },
     "execution_count": 108,
     "metadata": {},
     "output_type": "execute_result"
    }
   ],
   "source": [
    "y_test"
   ]
  },
  {
   "cell_type": "code",
   "execution_count": 110,
   "metadata": {},
   "outputs": [],
   "source": [
    "# Elaboro una matriz de confusión\n",
    "from sklearn.metrics import confusion_matrix\n",
    "cm = confusion_matrix(y_test, y_pred)"
   ]
  },
  {
   "cell_type": "code",
   "execution_count": 111,
   "metadata": {},
   "outputs": [
    {
     "data": {
      "text/plain": [
       "array([[25,  0],\n",
       "       [ 2,  8]])"
      ]
     },
     "execution_count": 111,
     "metadata": {},
     "output_type": "execute_result"
    }
   ],
   "source": [
    "cm"
   ]
  }
 ],
 "metadata": {
  "kernelspec": {
   "display_name": "Python 3",
   "language": "python",
   "name": "python3"
  },
  "language_info": {
   "codemirror_mode": {
    "name": "ipython",
    "version": 3
   },
   "file_extension": ".py",
   "mimetype": "text/x-python",
   "name": "python",
   "nbconvert_exporter": "python",
   "pygments_lexer": "ipython3",
   "version": "3.7.3"
  }
 },
 "nbformat": 4,
 "nbformat_minor": 4
}
